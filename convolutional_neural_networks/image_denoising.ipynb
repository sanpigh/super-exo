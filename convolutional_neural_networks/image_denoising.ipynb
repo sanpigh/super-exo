{
 "cells": [
  {
   "cell_type": "markdown",
   "metadata": {},
   "source": [
    "# Image Denoising Challenge\n",
    "\n",
    "The goal for this challenge is to leverage your knowledge of Deep Learning to design and train a denoising model. For a given noisy image $X$, our model should learn to predict the denoised image $y$.\n",
    "\n",
    "\n",
    "**Objectives**\n",
    "- Visualize images\n",
    "- Preprocess images for the neural network\n",
    "- Fit a custom CNN for the task"
   ]
  },
  {
   "cell_type": "markdown",
   "metadata": {},
   "source": [
    "## 1. Load Data\n",
    "\n",
    "👉 Let's download the dataset archive.\n",
    "It contains RGB and Black & White images we will be using for the rest of this challenge."
   ]
  },
  {
   "cell_type": "code",
   "execution_count": 1,
   "metadata": {
    "ExecuteTime": {
     "end_time": "2021-06-30T07:07:20.497087Z",
     "start_time": "2021-06-30T07:05:49.636990Z"
    }
   },
   "outputs": [
    {
     "name": "stdout",
     "output_type": "stream",
     "text": [
      "  % Total    % Received % Xferd  Average Speed   Time    Time     Time  Current\n",
      "                                 Dload  Upload   Total   Spent    Left  Speed\n",
      "100 90.1M  100 90.1M    0     0  1071k      0  0:01:26  0:01:26 --:--:--  523k  0     0  1101k      0  0:01:23  0:00:46  0:00:37 1112kM    0     0  1106k      0  0:01:23  0:01:16  0:00:07 1118k\n",
      "total 48\n",
      "-rw-r--r--     1 catherinechen  staff      0 Jun 29 09:18 README.md\n",
      "-rw-r--r--@    1 catherinechen  staff  20803 Jun 30 09:07 image_denoising.ipynb\n",
      "drwx------  1087 catherinechen  staff  34784 Jun  9 15:06 \u001b[1m\u001b[36mpaintings\u001b[m\u001b[m\n",
      "drwxr-xr-x     3 catherinechen  staff     96 Jun 29 09:18 \u001b[1m\u001b[36mtests\u001b[m\u001b[m\n"
     ]
    }
   ],
   "source": [
    "! curl https://wagon-public-datasets.s3.amazonaws.com/certification_france_2021_q2/paintings.zip > paintings.zip\n",
    "! unzip -nq \"paintings.zip\" \n",
    "! rm \"paintings.zip\"\n",
    "! ls -l"
   ]
  },
  {
   "cell_type": "code",
   "execution_count": 4,
   "metadata": {
    "ExecuteTime": {
     "end_time": "2021-06-30T07:08:22.721571Z",
     "start_time": "2021-06-30T07:08:22.687021Z"
    }
   },
   "outputs": [
    {
     "data": {
      "text/plain": [
       "['./paintings/Joan_Miro_48.jpg',\n",
       " './paintings/Titian_232.jpg',\n",
       " './paintings/Amedeo_Modigliani_30.jpg',\n",
       " './paintings/Frida_Kahlo_21.jpg',\n",
       " './paintings/Marc_Chagall_59.jpg',\n",
       " './paintings/Salvador_Dali_116.jpg',\n",
       " './paintings/Vincent_van_Gogh_363.jpg',\n",
       " './paintings/Paul_Klee_47.jpg',\n",
       " './paintings/Kazimir_Malevich_106.jpg',\n",
       " './paintings/Leonardo_da_Vinci_7.jpg',\n",
       " './paintings/Francisco_Goya_199.jpg',\n",
       " './paintings/Vincent_van_Gogh_161.jpg',\n",
       " './paintings/Paul_Klee_90.jpg',\n",
       " './paintings/Paul_Cezanne_24.jpg',\n",
       " './paintings/Peter_Paul_Rubens_42.jpg',\n",
       " './paintings/Amedeo_Modigliani_184.jpg',\n",
       " './paintings/Titian_52.jpg',\n",
       " './paintings/Alfred_Sisley_165.jpg',\n",
       " './paintings/Paul_Gauguin_72.jpg',\n",
       " './paintings/Vincent_van_Gogh_767.jpg',\n",
       " './paintings/Raphael_106.jpg',\n",
       " './paintings/Pablo_Picasso_78.jpg',\n",
       " './paintings/Diego_Rivera_10.jpg',\n",
       " './paintings/Pieter_Bruegel_108.jpg',\n",
       " './paintings/Hieronymus_Bosch_25.jpg',\n",
       " './paintings/Joan_Miro_6.jpg',\n",
       " './paintings/Kazimir_Malevich_79.jpg',\n",
       " './paintings/Andy_Warhol_96.jpg',\n",
       " './paintings/Edgar_Degas_509.jpg',\n",
       " './paintings/Albrecht_DuÌ\\x88rer_172.jpg',\n",
       " './paintings/Peter_Paul_Rubens_105.jpg',\n",
       " './paintings/Pablo_Picasso_193.jpg',\n",
       " './paintings/Caravaggio_25.jpg',\n",
       " './paintings/Vincent_van_Gogh_565.jpg',\n",
       " './paintings/Kazimir_Malevich_86.jpg',\n",
       " './paintings/Albrecht_Duâ\\x95\\xa0Ãªrer_49.jpg',\n",
       " './paintings/Caravaggio_18.jpg',\n",
       " './paintings/Kazimir_Malevich_93.jpg',\n",
       " './paintings/Claude_Monet_6.jpg',\n",
       " './paintings/Vincent_van_Gogh_558.jpg',\n",
       " './paintings/Pablo_Picasso_186.jpg',\n",
       " './paintings/Paul_Klee_181.jpg',\n",
       " './paintings/Albrecht_Duâ\\x95\\xa0Ãªrer_9.jpg',\n",
       " './paintings/Francisco_Goya_205.jpg',\n",
       " './paintings/Hieronymus_Bosch_18.jpg',\n",
       " './paintings/Pablo_Picasso_179.jpg',\n",
       " './paintings/Alfred_Sisley_158.jpg',\n",
       " './paintings/Marc_Chagall_109.jpg',\n",
       " './paintings/Pablo_Picasso_409.jpg',\n",
       " './paintings/Amedeo_Modigliani_191.jpg',\n",
       " './paintings/Pierre-Auguste_Renoir_267.jpg',\n",
       " './paintings/Pablo_Picasso_92.jpg',\n",
       " './paintings/Peter_Paul_Rubens_57.jpg',\n",
       " './paintings/Rembrandt_67.jpg',\n",
       " './paintings/Paul_Cezanne_31.jpg',\n",
       " './paintings/Jackson_Pollock_7.jpg',\n",
       " './paintings/Paul_Gauguin_267.jpg',\n",
       " './paintings/Vincent_van_Gogh_26.jpg',\n",
       " './paintings/Alfred_Sisley_17.jpg',\n",
       " './paintings/Kazimir_Malevich_113.jpg',\n",
       " './paintings/Albrecht_Duâ\\x95\\xa0Ãªrer_187.jpg',\n",
       " './paintings/Edgar_Degas_85.jpg',\n",
       " './paintings/Albrecht_Duâ\\x95\\xa0Ãªrer_150.jpg',\n",
       " './paintings/Gustav_Klimt_104.jpg',\n",
       " './paintings/Titian_225.jpg',\n",
       " './paintings/Joan_Miro_77.jpg',\n",
       " './paintings/Frida_Kahlo_36.jpg',\n",
       " './paintings/Edgar_Degas_78.jpg',\n",
       " './paintings/Mikhail_Vrubel_130.jpg',\n",
       " './paintings/Andrei_Rublev_64.jpg',\n",
       " './paintings/Georges_Seurat_8.jpg',\n",
       " './paintings/Henri_de_Toulouse-Lautrec_39.jpg',\n",
       " './paintings/El_Greco_70.jpg',\n",
       " './paintings/Marc_Chagall_66.jpg',\n",
       " './paintings/Edgar_Degas_495.jpg',\n",
       " './paintings/Diego_Rivera_3.jpg',\n",
       " './paintings/Salvador_Dali_101.jpg',\n",
       " './paintings/Vincent_van_Gogh_406.jpg',\n",
       " './paintings/Salvador_Dali_99.jpg',\n",
       " './paintings/Rembrandt_130.jpg',\n",
       " './paintings/Sandro_Botticelli_37.jpg',\n",
       " './paintings/Edgar_Degas_668.jpg',\n",
       " './paintings/Edgar_Degas_697.jpg',\n",
       " './paintings/Vincent_van_Gogh_176.jpg',\n",
       " './paintings/Titian_153.jpg',\n",
       " './paintings/Pablo_Picasso_351.jpg',\n",
       " './paintings/Pablo_Picasso_423.jpg',\n",
       " './paintings/Titian_45.jpg',\n",
       " './paintings/Alfred_Sisley_172.jpg',\n",
       " './paintings/Paul_Gauguin_65.jpg',\n",
       " './paintings/Marc_Chagall_123.jpg',\n",
       " './paintings/Andy_Warhol_151.jpg',\n",
       " './paintings/Hieronymus_Bosch_32.jpg',\n",
       " './paintings/Camille_Pissarro_64.jpg',\n",
       " './paintings/Edouard_Manet_68.jpg',\n",
       " './paintings/Rembrandt_246.jpg',\n",
       " './paintings/Claude_Monet_55.jpg',\n",
       " './paintings/Andy_Warhol_81.jpg',\n",
       " './paintings/Vasiliy_Kandinskiy_79.jpg',\n",
       " './paintings/Giotto_di_Bondone_12.jpg',\n",
       " './paintings/Albrecht_DuÌ\\x88rer_165.jpg',\n",
       " './paintings/Edgar_Degas_293.jpg',\n",
       " './paintings/Peter_Paul_Rubens_112.jpg',\n",
       " './paintings/Vasiliy_Kandinskiy_86.jpg',\n",
       " './paintings/Caravaggio_32.jpg',\n",
       " './paintings/Vincent_van_Gogh_572.jpg',\n",
       " './paintings/Henri_Rousseau_29.jpg',\n",
       " './paintings/Edouard_Manet_82.jpg',\n",
       " './paintings/Albrecht_DuÌ\\x88rer_158.jpg',\n",
       " './paintings/Henri_Rousseau_14.jpg',\n",
       " './paintings/Edgar_Degas_286.jpg',\n",
       " './paintings/Gustav_Klimt_27.jpg',\n",
       " './paintings/Albrecht_Duâ\\x95\\xa0Ãªrer_63.jpg',\n",
       " './paintings/Edgar_Degas_279.jpg',\n",
       " './paintings/Claude_Monet_40.jpg',\n",
       " './paintings/Pieter_Bruegel_122.jpg',\n",
       " './paintings/Francisco_Goya_212.jpg',\n",
       " './paintings/Andy_Warhol_144.jpg',\n",
       " './paintings/Edgar_Degas_523.jpg',\n",
       " './paintings/Rembrandt_253.jpg',\n",
       " './paintings/Camille_Pissarro_71.jpg',\n",
       " './paintings/Rene_Magritte_94.jpg',\n",
       " './paintings/Paul_Gauguin_58.jpg',\n",
       " './paintings/William_Turner_38.jpg',\n",
       " './paintings/Pablo_Picasso_85.jpg',\n",
       " './paintings/Titian_146.jpg',\n",
       " './paintings/Pablo_Picasso_344.jpg',\n",
       " './paintings/Rene_Magritte_43.jpg',\n",
       " './paintings/Georges_Seurat_11.jpg',\n",
       " './paintings/Piet_Mondrian_12.jpg',\n",
       " './paintings/Vincent_van_Gogh_31.jpg',\n",
       " './paintings/Edgar_Degas_682.jpg',\n",
       " './paintings/Sandro_Botticelli_22.jpg',\n",
       " './paintings/Edgar_Degas_127.jpg',\n",
       " './paintings/Vincent_van_Gogh_413.jpg',\n",
       " './paintings/Vincent_van_Gogh_349.jpg',\n",
       " './paintings/Edgar_Degas_480.jpg',\n",
       " './paintings/Edgar_Degas_92.jpg',\n",
       " './paintings/Marc_Chagall_73.jpg',\n",
       " './paintings/Andrei_Rublev_71.jpg',\n",
       " './paintings/Titian_218.jpg',\n",
       " './paintings/Joan_Miro_62.jpg',\n",
       " './paintings/Gustav_Klimt_111.jpg',\n",
       " './paintings/Albrecht_DuÌ\\x88rer_9.jpg',\n",
       " './paintings/Albrecht_Duâ\\x95\\xa0Ãªrer_143.jpg',\n",
       " './paintings/Marc_Chagall_88.jpg',\n",
       " './paintings/Salvador_Dali_77.jpg',\n",
       " './paintings/Edgar_Degas_321.jpg',\n",
       " './paintings/Edgar_Degas_55.jpg',\n",
       " './paintings/Mikhail_Vrubel_109.jpg',\n",
       " './paintings/El_Greco_49.jpg',\n",
       " './paintings/Albrecht_Duâ\\x95\\xa0Ãªrer_194.jpg',\n",
       " './paintings/Salvador_Dali_138.jpg',\n",
       " './paintings/Joan_Miro_99.jpg',\n",
       " './paintings/Sandro_Botticelli_135.jpg',\n",
       " './paintings/Pablo_Picasso_1.jpg',\n",
       " './paintings/Alfred_Sisley_215.jpg',\n",
       " './paintings/Rembrandt_109.jpg',\n",
       " './paintings/Vincent_van_Gogh_198.jpg',\n",
       " './paintings/Paul_Klee_69.jpg',\n",
       " './paintings/Francisco_Goya_148.jpg',\n",
       " './paintings/Peter_Paul_Rubens_4.jpg',\n",
       " './paintings/Pieter_Bruegel_37.jpg',\n",
       " './paintings/Vincent_van_Gogh_615.jpg',\n",
       " './paintings/Rembrandt_74.jpg',\n",
       " './paintings/Paul_Gauguin_274.jpg',\n",
       " './paintings/Pierre-Auguste_Renoir_274.jpg',\n",
       " './paintings/Frida_Kahlo_109.jpg',\n",
       " './paintings/Amedeo_Modigliani_155.jpg',\n",
       " './paintings/Pablo_Picasso_56.jpg',\n",
       " './paintings/Peter_Paul_Rubens_93.jpg',\n",
       " './paintings/Kazimir_Malevich_57.jpg',\n",
       " './paintings/Pablo_Picasso_142.jpg',\n",
       " './paintings/Paul_Klee_145.jpg',\n",
       " './paintings/Vincent_van_Gogh_211.jpg',\n",
       " './paintings/Raphael_36.jpg',\n",
       " './paintings/Edvard_Munch_2.jpg',\n",
       " './paintings/Pierre-Auguste_Renoir_71.jpg',\n",
       " './paintings/Pierre-Auguste_Renoir_64.jpg',\n",
       " './paintings/Vincent_van_Gogh_204.jpg',\n",
       " './paintings/Henri_de_Toulouse-Lautrec_8.jpg',\n",
       " './paintings/Andy_Warhol_52.jpg',\n",
       " './paintings/Pablo_Picasso_157.jpg',\n",
       " './paintings/Francisco_Goya_21.jpg',\n",
       " './paintings/Edvard_Munch_66.jpg',\n",
       " './paintings/Kazimir_Malevich_42.jpg',\n",
       " './paintings/Peter_Paul_Rubens_86.jpg',\n",
       " './paintings/Amedeo_Modigliani_140.jpg',\n",
       " './paintings/Vincent_van_Gogh_774.jpg',\n",
       " './paintings/Titian_96.jpg',\n",
       " './paintings/Rene_Magritte_176.jpg',\n",
       " './paintings/Albrecht_Duâ\\x95\\xa0Ãªrer_208.jpg',\n",
       " './paintings/Peter_Paul_Rubens_79.jpg',\n",
       " './paintings/Paul_Klee_83.jpg',\n",
       " './paintings/Pieter_Bruegel_22.jpg',\n",
       " './paintings/Vincent_van_Gogh_600.jpg',\n",
       " './paintings/Alfred_Sisley_39.jpg',\n",
       " './paintings/Pablo_Picasso_221.jpg',\n",
       " './paintings/Paul_Klee_54.jpg',\n",
       " './paintings/Sandro_Botticelli_120.jpg',\n",
       " './paintings/Alfred_Sisley_200.jpg',\n",
       " './paintings/Vincent_van_Gogh_370.jpg',\n",
       " './paintings/Amedeo_Modigliani_23.jpg',\n",
       " './paintings/Salvador_Dali_62.jpg',\n",
       " './paintings/Edgar_Degas_68.jpg',\n",
       " './paintings/Leonardo_da_Vinci_36.jpg',\n",
       " './paintings/Gustave_Courbet_6.jpg',\n",
       " './paintings/Salvador_Dali_48.jpg',\n",
       " './paintings/Pierre-Auguste_Renoir_115.jpg',\n",
       " './paintings/Edgar_Degas_336.jpg',\n",
       " './paintings/Edgar_Degas_42.jpg',\n",
       " './paintings/Edgar_Degas_444.jpg',\n",
       " './paintings/Henri_de_Toulouse-Lautrec_17.jpg',\n",
       " './paintings/Vincent_van_Gogh_428.jpg',\n",
       " './paintings/Francisco_Goya_177.jpg',\n",
       " './paintings/Pierre-Auguste_Renoir_317.jpg',\n",
       " './paintings/Vincent_van_Gogh_831.jpg',\n",
       " './paintings/Edgar_Degas_134.jpg',\n",
       " './paintings/Henri_Matisse_164.jpg',\n",
       " './paintings/Edgar_Degas_646.jpg',\n",
       " './paintings/Albrecht_DuÌ\\x88rer_215.jpg',\n",
       " './paintings/Albrecht_Duâ\\x95\\xa0Ãªrer_222.jpg',\n",
       " './paintings/Henri_Matisse_75.jpg',\n",
       " './paintings/Rene_Magritte_50.jpg',\n",
       " './paintings/Vincent_van_Gogh_789.jpg',\n",
       " './paintings/Jan_van_Eyck_15.jpg',\n",
       " './paintings/Titian_182.jpg',\n",
       " './paintings/Pablo_Picasso_380.jpg',\n",
       " './paintings/Rene_Magritte_87.jpg',\n",
       " './paintings/Gustave_Courbet_46.jpg',\n",
       " './paintings/Edouard_Manet_46.jpg',\n",
       " './paintings/Edgar_Degas_242.jpg',\n",
       " './paintings/Edgar_Degas_530.jpg',\n",
       " './paintings/Vasiliy_Kandinskiy_57.jpg',\n",
       " './paintings/Paul_Klee_152.jpg',\n",
       " './paintings/Raphael_21.jpg',\n",
       " './paintings/Gustav_Klimt_1.jpg',\n",
       " './paintings/Paul_Gauguin_115.jpg',\n",
       " './paintings/Andy_Warhol_180.jpg',\n",
       " './paintings/Albrecht_Duâ\\x95\\xa0Ãªrer_70.jpg',\n",
       " './paintings/Gustav_Klimt_34.jpg',\n",
       " './paintings/Paul_Gauguin_100.jpg',\n",
       " './paintings/Andy_Warhol_45.jpg',\n",
       " './paintings/Edgar_Degas_257.jpg',\n",
       " './paintings/Vasiliy_Kandinskiy_42.jpg',\n",
       " './paintings/Edvard_Munch_59.jpg',\n",
       " './paintings/Francisco_Goya_36.jpg',\n",
       " './paintings/Gustave_Courbet_53.jpg',\n",
       " './paintings/Edouard_Manet_53.jpg',\n",
       " './paintings/Titian_197.jpg',\n",
       " './paintings/Pablo_Picasso_395.jpg',\n",
       " './paintings/Mikhail_Vrubel_15.jpg',\n",
       " './paintings/Paul_Gauguin_302.jpg',\n",
       " './paintings/Pierre-Auguste_Renoir_289.jpg',\n",
       " './paintings/Marc_Chagall_130.jpg',\n",
       " './paintings/Titian_81.jpg',\n",
       " './paintings/Pablo_Picasso_430.jpg',\n",
       " './paintings/Rene_Magritte_161.jpg',\n",
       " './paintings/William_Turner_16.jpg',\n",
       " './paintings/Titian_168.jpg',\n",
       " './paintings/Albrecht_Duâ\\x95\\xa0Ãªrer_237.jpg',\n",
       " './paintings/Henri_Matisse_60.jpg',\n",
       " './paintings/Michelangelo_41.jpg',\n",
       " './paintings/Albrecht_DuÌ\\x88rer_200.jpg',\n",
       " './paintings/Vincent_van_Gogh_824.jpg',\n",
       " './paintings/Rembrandt_123.jpg',\n",
       " './paintings/Rembrandt_89.jpg',\n",
       " './paintings/Edgar_Degas_653.jpg',\n",
       " './paintings/Henri_Matisse_171.jpg',\n",
       " './paintings/Pablo_Picasso_236.jpg',\n",
       " './paintings/Francisco_Goya_162.jpg',\n",
       " './paintings/Jackson_Pollock_22.jpg',\n",
       " './paintings/Salvador_Dali_6.jpg',\n",
       " './paintings/Paul_Gauguin_289.jpg',\n",
       " './paintings/Pierre-Auguste_Renoir_302.jpg',\n",
       " './paintings/El_Greco_63.jpg',\n",
       " './paintings/Edgar_Degas_9.jpg',\n",
       " './paintings/Albrecht_DuÌ\\x88rer_17.jpg',\n",
       " './paintings/Edgar_Degas_451.jpg',\n",
       " './paintings/Mikhail_Vrubel_123.jpg',\n",
       " './paintings/Leonardo_da_Vinci_21.jpg',\n",
       " './paintings/Pierre-Auguste_Renoir_100.jpg',\n",
       " './paintings/Edgar_Degas_350.jpg',\n",
       " './paintings/Edgar_Degas_24.jpg',\n",
       " './paintings/Edgar_Degas_422.jpg',\n",
       " './paintings/Pierre-Auguste_Renoir_173.jpg',\n",
       " './paintings/Edgar_Degas_387.jpg',\n",
       " './paintings/Albrecht_DuÌ\\x88rer_70.jpg',\n",
       " './paintings/Paul_Klee_18.jpg',\n",
       " './paintings/Francisco_Goya_111.jpg',\n",
       " './paintings/Alfred_Sisley_75.jpg',\n",
       " './paintings/Vincent_van_Gogh_44.jpg',\n",
       " './paintings/Edgar_Degas_185.jpg',\n",
       " './paintings/Albrecht_DuÌ\\x88rer_273.jpg',\n",
       " './paintings/Sandro_Botticelli_80.jpg',\n",
       " './paintings/Rene_Magritte_36.jpg',\n",
       " './paintings/Alfred_Sisley_8.jpg',\n",
       " './paintings/Peter_Paul_Rubens_35.jpg',\n",
       " './paintings/Mikhail_Vrubel_99.jpg',\n",
       " './paintings/Albrecht_Duâ\\x95\\xa0Ãªrer_244.jpg',\n",
       " './paintings/Pablo_Picasso_27.jpg',\n",
       " './paintings/Vincent_van_Gogh_738.jpg',\n",
       " './paintings/Jan_van_Eyck_73.jpg',\n",
       " './paintings/Gustav_Klimt_85.jpg',\n",
       " './paintings/Hieronymus_Bosch_3.jpg',\n",
       " './paintings/Caravaggio_3.jpg',\n",
       " './paintings/Paul_Gauguin_173.jpg',\n",
       " './paintings/Edgar_Degas_581.jpg',\n",
       " './paintings/Vincent_van_Gogh_248.jpg',\n",
       " './paintings/Henri_Rousseau_8.jpg',\n",
       " './paintings/Vincent_van_Gogh_507.jpg',\n",
       " './paintings/Andy_Warhol_23.jpg',\n",
       " './paintings/Francisco_Goya_87.jpg',\n",
       " './paintings/Albrecht_Duâ\\x95\\xa0Ãªrer_17.jpg',\n",
       " './paintings/Caravaggio_47.jpg',\n",
       " './paintings/Paul_Gauguin_166.jpg',\n",
       " './paintings/Hieronymus_Bosch_90.jpg',\n",
       " './paintings/Paul_Klee_109.jpg',\n",
       " './paintings/Francisco_Goya_50.jpg',\n",
       " './paintings/Hieronymus_Bosch_47.jpg',\n",
       " './paintings/Jan_van_Eyck_66.jpg',\n",
       " './paintings/Titian_18.jpg',\n",
       " './paintings/Pablo_Picasso_32.jpg',\n",
       " './paintings/Alfred_Sisley_107.jpg',\n",
       " './paintings/Titian_30.jpg',\n",
       " './paintings/Amedeo_Modigliani_119.jpg',\n",
       " './paintings/Albrecht_Duâ\\x95\\xa0Ãªrer_251.jpg',\n",
       " './paintings/Michelangelo_27.jpg',\n",
       " './paintings/Marc_Chagall_181.jpg',\n",
       " './paintings/Pierre-Auguste_Renoir_238.jpg',\n",
       " './paintings/Peter_Paul_Rubens_20.jpg',\n",
       " './paintings/Sandro_Botticelli_95.jpg',\n",
       " './paintings/Paul_Cezanne_46.jpg',\n",
       " './paintings/Vincent_van_Gogh_103.jpg',\n",
       " './paintings/Paul_Gauguin_238.jpg',\n",
       " './paintings/Pablo_Picasso_287.jpg',\n",
       " './paintings/Vincent_van_Gogh_659.jpg',\n",
       " './paintings/Rembrandt_38.jpg',\n",
       " './paintings/Albrecht_DuÌ\\x88rer_266.jpg',\n",
       " './paintings/Francisco_Goya_104.jpg',\n",
       " './paintings/Paul_Klee_25.jpg',\n",
       " './paintings/Alfred_Sisley_60.jpg',\n",
       " './paintings/Rembrandt_145.jpg',\n",
       " './paintings/Pablo_Picasso_250.jpg',\n",
       " './paintings/Alfred_Sisley_259.jpg',\n",
       " './paintings/Frida_Kahlo_94.jpg',\n",
       " './paintings/Mikhail_Vrubel_145.jpg',\n",
       " './paintings/Frida_Kahlo_43.jpg',\n",
       " './paintings/Pierre-Auguste_Renoir_166.jpg',\n",
       " './paintings/Edgar_Degas_19.jpg',\n",
       " './paintings/Amedeo_Modigliani_52.jpg',\n",
       " './paintings/Edgar_Degas_437.jpg',\n",
       " './paintings/Andrei_Rublev_13.jpg',\n",
       " './paintings/Vincent_van_Gogh_471.jpg',\n",
       " './paintings/Vincent_van_Gogh_868.jpg',\n",
       " './paintings/Edgar_Degas_192.jpg',\n",
       " './paintings/Piet_Mondrian_70.jpg',\n",
       " './paintings/Vincent_van_Gogh_673.jpg',\n",
       " './paintings/Pieter_Bruegel_51.jpg',\n",
       " './paintings/Rene_Magritte_21.jpg',\n",
       " './paintings/Titian_124.jpg',\n",
       " './paintings/Mikhail_Vrubel_6.jpg',\n",
       " './paintings/Amedeo_Modigliani_133.jpg',\n",
       " './paintings/Paul_Gauguin_12.jpg',\n",
       " './paintings/Camille_Pissarro_13.jpg',\n",
       " './paintings/Gustav_Klimt_92.jpg',\n",
       " './paintings/Rembrandt_231.jpg',\n",
       " './paintings/Francisco_Goya_270.jpg',\n",
       " './paintings/Edvard_Munch_15.jpg',\n",
       " './paintings/Raphael_87.jpg',\n",
       " './paintings/Edgar_Degas_596.jpg',\n",
       " './paintings/Paul_Klee_123.jpg',\n",
       " './paintings/Vincent_van_Gogh_277.jpg',\n",
       " './paintings/Raphael_50.jpg',\n",
       " './paintings/Vincent_van_Gogh_262.jpg',\n",
       " './paintings/Gustav_Klimt_78.jpg',\n",
       " './paintings/Paul_Gauguin_159.jpg',\n",
       " './paintings/Albrecht_DuÌ\\x88rer_107.jpg',\n",
       " './paintings/Giotto_di_Bondone_70.jpg',\n",
       " './paintings/Rembrandt_224.jpg',\n",
       " './paintings/Marc_Chagall_2.jpg',\n",
       " './paintings/Amedeo_Modigliani_126.jpg',\n",
       " './paintings/Jan_van_Eyck_59.jpg',\n",
       " './paintings/Marc_Chagall_196.jpg',\n",
       " './paintings/Henri_Matisse_39.jpg',\n",
       " './paintings/Rene_Magritte_110.jpg',\n",
       " './paintings/Titian_131.jpg',\n",
       " './paintings/Albrecht_DuÌ\\x88rer_259.jpg',\n",
       " './paintings/Vincent_van_Gogh_666.jpg',\n",
       " './paintings/Pieter_Bruegel_44.jpg',\n",
       " './paintings/Frida_Kahlo_7.jpg',\n",
       " './paintings/Henri_Matisse_128.jpg',\n",
       " './paintings/Edgar_Degas_178.jpg',\n",
       " './paintings/Paul_Klee_32.jpg',\n",
       " './paintings/Piet_Mondrian_1.jpg',\n",
       " './paintings/Rembrandt_152.jpg',\n",
       " './paintings/Vincent_van_Gogh_91.jpg',\n",
       " './paintings/Leonardo_da_Vinci_87.jpg',\n",
       " './paintings/Vincent_van_Gogh_464.jpg',\n",
       " './paintings/El_Greco_12.jpg',\n",
       " './paintings/Henri_Matisse_8.jpg',\n",
       " './paintings/Edgar_Degas_408.jpg',\n",
       " './paintings/Mikhail_Vrubel_152.jpg',\n",
       " './paintings/Leonardo_da_Vinci_50.jpg',\n",
       " './paintings/Amedeo_Modigliani_45.jpg',\n",
       " './paintings/Pierre-Auguste_Renoir_159.jpg',\n",
       " './paintings/Titian_247.jpg',\n",
       " './paintings/Frida_Kahlo_50.jpg',\n",
       " './paintings/Joan_Miro_11.jpg',\n",
       " './paintings/Frida_Kahlo_87.jpg',\n",
       " './paintings/Vincent_van_Gogh_312.jpg',\n",
       " './paintings/Amedeo_Modigliani_96.jpg',\n",
       " './paintings/Sandro_Botticelli_142.jpg',\n",
       " './paintings/Sandro_Botticelli_51.jpg',\n",
       " './paintings/Pablo_Picasso_243.jpg',\n",
       " './paintings/Vincent_van_Gogh_110.jpg',\n",
       " './paintings/Rembrandt_181.jpg',\n",
       " './paintings/Piet_Mondrian_49.jpg',\n",
       " './paintings/Pablo_Picasso_294.jpg',\n",
       " './paintings/Michelangelo_34.jpg',\n",
       " './paintings/Pablo_Picasso_337.jpg',\n",
       " './paintings/Francisco_Goya_7.jpg',\n",
       " './paintings/Vincent_van_Gogh_716.jpg',\n",
       " './paintings/Albrecht_Duâ\\x95\\xa0Ãªrer_295.jpg',\n",
       " './paintings/Mikhail_Vrubel_48.jpg',\n",
       " './paintings/Diego_Rivera_61.jpg',\n",
       " './paintings/Leonardo_da_Vinci_137.jpg',\n",
       " './paintings/Marc_Chagall_145.jpg',\n",
       " './paintings/Titian_23.jpg',\n",
       " './paintings/Alfred_Sisley_114.jpg',\n",
       " './paintings/Albrecht_DuÌ\\x88rer_301.jpg',\n",
       " './paintings/Kazimir_Malevich_20.jpg',\n",
       " './paintings/Claude_Monet_33.jpg',\n",
       " './paintings/Francisco_Goya_43.jpg',\n",
       " './paintings/Andy_Warhol_137.jpg',\n",
       " './paintings/Francisco_Goya_249.jpg',\n",
       " './paintings/Pablo_Picasso_135.jpg',\n",
       " './paintings/Hieronymus_Bosch_54.jpg',\n",
       " './paintings/Vincent_van_Gogh_299.jpg',\n",
       " './paintings/Francisco_Goya_94.jpg',\n",
       " './paintings/Vincent_van_Gogh_514.jpg',\n",
       " './paintings/Andy_Warhol_30.jpg',\n",
       " './paintings/Hieronymus_Bosch_83.jpg',\n",
       " './paintings/Pierre-Auguste_Renoir_12.jpg',\n",
       " './paintings/Caravaggio_54.jpg',\n",
       " './paintings/Gustav_Klimt_41.jpg',\n",
       " './paintings/Vincent_van_Gogh_529.jpg',\n",
       " './paintings/Pablo_Picasso_120.jpg',\n",
       " './paintings/Giotto_di_Bondone_49.jpg',\n",
       " './paintings/Edgar_Degas_545.jpg',\n",
       " './paintings/Andy_Warhol_122.jpg',\n",
       " './paintings/Kazimir_Malevich_35.jpg',\n",
       " './paintings/Claude_Monet_26.jpg',\n",
       " './paintings/Hieronymus_Bosch_69.jpg',\n",
       " './paintings/Albrecht_Duâ\\x95\\xa0Ãªrer_280.jpg',\n",
       " './paintings/Alfred_Sisley_129.jpg',\n",
       " './paintings/Leonardo_da_Vinci_122.jpg',\n",
       " './paintings/Pablo_Picasso_322.jpg',\n",
       " './paintings/Pierre-Auguste_Renoir_216.jpg',\n",
       " './paintings/Henri_Matisse_14.jpg',\n",
       " './paintings/Paul_Gauguin_216.jpg',\n",
       " './paintings/Vincent_van_Gogh_57.jpg',\n",
       " './paintings/Vincent_van_Gogh_80.jpg',\n",
       " './paintings/Vincent_van_Gogh_688.jpg',\n",
       " './paintings/Edgar_Degas_141.jpg',\n",
       " './paintings/Sandro_Botticelli_44.jpg',\n",
       " './paintings/Albrecht_Duâ\\x95\\xa0Ãªrer_323.jpg',\n",
       " './paintings/Edgar_Degas_394.jpg',\n",
       " './paintings/Sandro_Botticelli_157.jpg',\n",
       " './paintings/Marc_Chagall_15.jpg',\n",
       " './paintings/Giotto_di_Bondone_1.jpg',\n",
       " './paintings/Albrecht_DuÌ\\x88rer_63.jpg',\n",
       " './paintings/Edgar_Degas_37.jpg',\n",
       " './paintings/Edgar_Degas_343.jpg',\n",
       " './paintings/William_Turner_6.jpg',\n",
       " './paintings/Albrecht_Duâ\\x95\\xa0Ãªrer_121.jpg',\n",
       " './paintings/Leonardo_da_Vinci_43.jpg',\n",
       " './paintings/Hieronymus_Bosch_120.jpg',\n",
       " './paintings/Titian_254.jpg',\n",
       " './paintings/Leonardo_da_Vinci_94.jpg',\n",
       " './paintings/Marc_Chagall_224.jpg',\n",
       " './paintings/Henri_de_Toulouse-Lautrec_60.jpg',\n",
       " './paintings/Vincent_van_Gogh_305.jpg',\n",
       " './paintings/Amedeo_Modigliani_81.jpg',\n",
       " './paintings/Albrecht_DuÌ\\x88rer_49.jpg',\n",
       " './paintings/Pieter_Bruegel_80.jpg',\n",
       " './paintings/Albrecht_Duâ\\x95\\xa0Ãªrer_309.jpg',\n",
       " './paintings/Henri_Matisse_113.jpg',\n",
       " './paintings/Edgar_Degas_631.jpg',\n",
       " './paintings/Vincent_van_Gogh_846.jpg',\n",
       " './paintings/Rembrandt_196.jpg',\n",
       " './paintings/Pablo_Picasso_308.jpg',\n",
       " './paintings/Rene_Magritte_103.jpg',\n",
       " './paintings/Vincent_van_Gogh_701.jpg',\n",
       " './paintings/Marc_Chagall_152.jpg',\n",
       " './paintings/Albrecht_DuÌ\\x88rer_316.jpg',\n",
       " './paintings/Leonardo_da_Vinci_108.jpg',\n",
       " './paintings/Mikhail_Vrubel_77.jpg',\n",
       " './paintings/Edouard_Manet_31.jpg',\n",
       " './paintings/Andy_Warhol_108.jpg',\n",
       " './paintings/Gustave_Courbet_31.jpg',\n",
       " './paintings/Giotto_di_Bondone_63.jpg',\n",
       " './paintings/Vasiliy_Kandinskiy_20.jpg',\n",
       " './paintings/Edgar_Degas_235.jpg',\n",
       " './paintings/Diego_Velazquez_102.jpg',\n",
       " './paintings/Paul_Klee_3.jpg',\n",
       " './paintings/Henri_Rousseau_58.jpg',\n",
       " './paintings/Eugene_Delacroix_20.jpg',\n",
       " './paintings/Albrecht_DuÌ\\x88rer_114.jpg',\n",
       " './paintings/Henri_Rousseau_65.jpg',\n",
       " './paintings/Gustav_Klimt_56.jpg',\n",
       " './paintings/Albrecht_DuÌ\\x88rer_129.jpg',\n",
       " './paintings/Raphael_43.jpg',\n",
       " './paintings/Paul_Klee_130.jpg',\n",
       " './paintings/Vasiliy_Kandinskiy_35.jpg',\n",
       " './paintings/Edgar_Degas_552.jpg',\n",
       " './paintings/Claude_Monet_19.jpg',\n",
       " './paintings/Diego_Velazquez_117.jpg',\n",
       " './paintings/Edgar_Degas_220.jpg',\n",
       " './paintings/Camille_Pissarro_28.jpg',\n",
       " './paintings/Edouard_Manet_24.jpg',\n",
       " './paintings/Raphael_94.jpg',\n",
       " './paintings/Paul_Gauguin_188.jpg',\n",
       " './paintings/Gustave_Courbet_24.jpg',\n",
       " './paintings/Francisco_Goya_263.jpg',\n",
       " './paintings/Mikhail_Vrubel_62.jpg',\n",
       " './paintings/Pierre-Auguste_Renoir_201.jpg',\n",
       " './paintings/Paul_Gauguin_201.jpg',\n",
       " './paintings/Rembrandt_15.jpg',\n",
       " './paintings/Piet_Mondrian_63.jpg',\n",
       " './paintings/Edgar_Degas_624.jpg',\n",
       " './paintings/Henri_Matisse_106.jpg',\n",
       " './paintings/Vincent_van_Gogh_853.jpg',\n",
       " './paintings/Edgar_Degas_156.jpg',\n",
       " './paintings/Albrecht_DuÌ\\x88rer_288.jpg',\n",
       " './paintings/Pieter_Bruegel_95.jpg',\n",
       " './paintings/Pierre-Auguste_Renoir_188.jpg',\n",
       " './paintings/Henri_de_Toulouse-Lautrec_75.jpg',\n",
       " './paintings/Marc_Chagall_231.jpg',\n",
       " './paintings/Andrei_Rublev_28.jpg',\n",
       " './paintings/Hieronymus_Bosch_135.jpg',\n",
       " './paintings/William_Turner_5.jpg',\n",
       " './paintings/Albrecht_Duâ\\x95\\xa0Ãªrer_136.jpg',\n",
       " './paintings/Salvador_Dali_33.jpg',\n",
       " './paintings/Edgar_Degas_365.jpg',\n",
       " './paintings/Edgar_Degas_11.jpg',\n",
       " './paintings/Albrecht_DuÌ\\x88rer_92.jpg',\n",
       " './paintings/Albrecht_Duâ\\x95\\xa0Ãªrer_107.jpg',\n",
       " './paintings/Alfred_Sisley_251.jpg',\n",
       " './paintings/Alfred_Sisley_68.jpg',\n",
       " './paintings/Pablo_Picasso_258.jpg',\n",
       " './paintings/Paul_Gauguin_230.jpg',\n",
       " './paintings/Rembrandt_30.jpg',\n",
       " './paintings/Pieter_Bruegel_73.jpg',\n",
       " './paintings/Vincent_van_Gogh_651.jpg',\n",
       " './paintings/Alfred_Sisley_97.jpg',\n",
       " './paintings/Mikhail_Vrubel_84.jpg',\n",
       " './paintings/Albrecht_Duâ\\x95\\xa0Ãªrer_259.jpg',\n",
       " './paintings/Marc_Chagall_189.jpg',\n",
       " './paintings/Pierre-Auguste_Renoir_230.jpg',\n",
       " './paintings/Peter_Paul_Rubens_28.jpg',\n",
       " './paintings/Titian_10.jpg',\n",
       " './paintings/Paul_Gauguin_30.jpg',\n",
       " './paintings/Amedeo_Modigliani_111.jpg',\n",
       " './paintings/Titian_38.jpg',\n",
       " './paintings/Pablo_Picasso_106.jpg',\n",
       " './paintings/Francisco_Goya_58.jpg',\n",
       " './paintings/Kazimir_Malevich_13.jpg',\n",
       " './paintings/Edvard_Munch_37.jpg',\n",
       " './paintings/Pierre-Auguste_Renoir_35.jpg',\n",
       " './paintings/Francisco_Goya_285.jpg',\n",
       " './paintings/Hieronymus_Bosch_98.jpg',\n",
       " './paintings/Vincent_van_Gogh_255.jpg',\n",
       " './paintings/Raphael_72.jpg',\n",
       " './paintings/Paul_Klee_101.jpg',\n",
       " './paintings/Giotto_di_Bondone_85.jpg',\n",
       " './paintings/Edgar_Degas_589.jpg',\n",
       " './paintings/Vincent_van_Gogh_240.jpg',\n",
       " './paintings/Albrecht_Duâ\\x95\\xa0Ãªrer_22.jpg',\n",
       " './paintings/Edvard_Munch_22.jpg',\n",
       " './paintings/Francisco_Goya_65.jpg',\n",
       " './paintings/Pierre-Auguste_Renoir_4.jpg',\n",
       " './paintings/Pablo_Picasso_113.jpg',\n",
       " './paintings/Andy_Warhol_5.jpg',\n",
       " './paintings/Paul_Gauguin_25.jpg',\n",
       " './paintings/Vincent_van_Gogh_730.jpg',\n",
       " './paintings/Diego_Rivera_47.jpg',\n",
       " './paintings/Amedeo_Modigliani_104.jpg',\n",
       " './paintings/Michelangelo_12.jpg',\n",
       " './paintings/Rene_Magritte_132.jpg',\n",
       " './paintings/William_Turner_45.jpg',\n",
       " './paintings/Mikhail_Vrubel_91.jpg',\n",
       " './paintings/Pieter_Bruegel_66.jpg',\n",
       " './paintings/Vincent_van_Gogh_644.jpg',\n",
       " './paintings/Alfred_Sisley_82.jpg',\n",
       " './paintings/Sandro_Botticelli_88.jpg',\n",
       " './paintings/Pablo_Picasso_265.jpg',\n",
       " './paintings/Francisco_Goya_119.jpg',\n",
       " './paintings/Vincent_van_Gogh_334.jpg',\n",
       " './paintings/Alfred_Sisley_244.jpg',\n",
       " './paintings/Albrecht_DuÌ\\x88rer_78.jpg',\n",
       " './paintings/Sandro_Botticelli_164.jpg',\n",
       " './paintings/Leonardo_da_Vinci_72.jpg',\n",
       " './paintings/Edgar_Degas_358.jpg',\n",
       " './paintings/Salvador_Dali_26.jpg',\n",
       " './paintings/Amedeo_Modigliani_67.jpg',\n",
       " './paintings/Edgar_Degas_400.jpg',\n",
       " './paintings/Edgar_Degas_372.jpg',\n",
       " './paintings/Leonardo_da_Vinci_58.jpg',\n",
       " './paintings/Albrecht_DuÌ\\x88rer_85.jpg',\n",
       " './paintings/Pierre-Auguste_Renoir_151.jpg',\n",
       " './paintings/Hieronymus_Bosch_113.jpg',\n",
       " './paintings/Vincent_van_Gogh_493.jpg',\n",
       " './paintings/Henri_de_Toulouse-Lautrec_53.jpg',\n",
       " './paintings/Giotto_di_Bondone_113.jpg',\n",
       " './paintings/Marc_Chagall_217.jpg',\n",
       " './paintings/Edgar_Degas_602.jpg',\n",
       " './paintings/Henri_Matisse_120.jpg',\n",
       " './paintings/Vincent_van_Gogh_875.jpg',\n",
       " './paintings/Edgar_Degas_170.jpg',\n",
       " './paintings/Francisco_Goya_133.jpg',\n",
       " './paintings/Vincent_van_Gogh_99.jpg',\n",
       " './paintings/Albrecht_DuÌ\\x88rer_251.jpg',\n",
       " './paintings/Henri_Matisse_31.jpg',\n",
       " './paintings/Albrecht_Duâ\\x95\\xa0Ãªrer_266.jpg',\n",
       " './paintings/Titian_139.jpg',\n",
       " './paintings/Rene_Magritte_118.jpg',\n",
       " './paintings/Jan_van_Eyck_51.jpg',\n",
       " './paintings/Edgar_Degas_574.jpg',\n",
       " './paintings/Vasiliy_Kandinskiy_13.jpg',\n",
       " './paintings/Giotto_di_Bondone_78.jpg',\n",
       " './paintings/Edgar_Degas_206.jpg',\n",
       " './paintings/Diego_Velazquez_15.jpg',\n",
       " './paintings/Henri_Rousseau_43.jpg',\n",
       " './paintings/Gustav_Klimt_70.jpg',\n",
       " './paintings/Albrecht_Duâ\\x95\\xa0Ãªrer_34.jpg',\n",
       " './paintings/Paul_Gauguin_151.jpg',\n",
       " './paintings/Raphael_65.jpg',\n",
       " './paintings/Eugene_Delacroix_13.jpg',\n",
       " './paintings/Paul_Klee_116.jpg',\n",
       " './paintings/Giotto_di_Bondone_92.jpg',\n",
       " './paintings/Raphael_58.jpg',\n",
       " './paintings/Paul_Gauguin_144.jpg',\n",
       " './paintings/Rembrandt_239.jpg',\n",
       " './paintings/Edouard_Manet_17.jpg',\n",
       " './paintings/Raphael_7.jpg',\n",
       " './paintings/Francisco_Goya_72.jpg',\n",
       " './paintings/Gustave_Courbet_17.jpg',\n",
       " './paintings/Francisco_Goya_278.jpg',\n",
       " './paintings/Edgar_Degas_213.jpg',\n",
       " './paintings/Diego_Velazquez_124.jpg',\n",
       " './paintings/Marc_Chagall_174.jpg',\n",
       " './paintings/Jan_van_Eyck_44.jpg',\n",
       " './paintings/Henri_Matisse_24.jpg',\n",
       " './paintings/Rene_Magritte_29.jpg',\n",
       " './paintings/Albrecht_Duâ\\x95\\xa0Ãªrer_273.jpg',\n",
       " './paintings/Rene_Magritte_125.jpg',\n",
       " './paintings/William_Turner_52.jpg',\n",
       " './paintings/Pieter_Bruegel_2.jpg',\n",
       " './paintings/Albrecht_DuÌ\\x88rer_244.jpg',\n",
       " './paintings/Piet_Mondrian_78.jpg',\n",
       " './paintings/Pieter_Bruegel_59.jpg',\n",
       " './paintings/Francisco_Goya_126.jpg',\n",
       " './paintings/Piet_Mondrian_8.jpg',\n",
       " './paintings/Pablo_Picasso_272.jpg',\n",
       " './paintings/Henri_Matisse_135.jpg',\n",
       " './paintings/Edgar_Degas_617.jpg',\n",
       " './paintings/Rembrandt_167.jpg',\n",
       " './paintings/Vincent_van_Gogh_860.jpg',\n",
       " './paintings/Marc_Chagall_202.jpg',\n",
       " './paintings/Giotto_di_Bondone_106.jpg',\n",
       " './paintings/Henri_de_Toulouse-Lautrec_46.jpg',\n",
       " './paintings/El_Greco_27.jpg',\n",
       " './paintings/Vincent_van_Gogh_479.jpg',\n",
       " './paintings/Leonardo_da_Vinci_65.jpg',\n",
       " './paintings/Hieronymus_Bosch_106.jpg',\n",
       " './paintings/Salvador_Dali_19.jpg',\n",
       " './paintings/Pierre-Auguste_Renoir_144.jpg',\n",
       " './paintings/Mikhail_Vrubel_167.jpg',\n",
       " './paintings/Vincent_van_Gogh_486.jpg',\n",
       " './paintings/Edgar_Degas_415.jpg',\n",
       " './paintings/Frida_Kahlo_65.jpg',\n",
       " './paintings/Amedeo_Modigliani_74.jpg',\n",
       " './paintings/Albrecht_Duâ\\x95\\xa0Ãªrer_129.jpg',\n",
       " './paintings/Vincent_van_Gogh_327.jpg',\n",
       " './paintings/Giotto_di_Bondone_9.jpg',\n",
       " './paintings/Vincent_van_Gogh_680.jpg',\n",
       " './paintings/Edgar_Degas_149.jpg',\n",
       " './paintings/Alfred_Sisley_46.jpg',\n",
       " './paintings/Vincent_van_Gogh_125.jpg',\n",
       " './paintings/Edouard_Manet_8.jpg',\n",
       " './paintings/Diego_Rivera_54.jpg',\n",
       " './paintings/Paul_Gauguin_36.jpg',\n",
       " './paintings/Vincent_van_Gogh_723.jpg',\n",
       " './paintings/Albrecht_Duâ\\x95\\xa0Ãªrer_288.jpg',\n",
       " './paintings/Pablo_Picasso_14.jpg',\n",
       " './paintings/Mikhail_Vrubel_55.jpg',\n",
       " './paintings/Alfred_Sisley_121.jpg',\n",
       " './paintings/Giotto_di_Bondone_41.jpg',\n",
       " './paintings/Pablo_Picasso_128.jpg',\n",
       " './paintings/Diego_Velazquez_10.jpg',\n",
       " './paintings/Vincent_van_Gogh_284.jpg',\n",
       " './paintings/Hieronymus_Bosch_61.jpg',\n",
       " './paintings/Gustav_Klimt_49.jpg',\n",
       " './paintings/Vincent_van_Gogh_521.jpg',\n",
       " './paintings/Peter_Paul_Rubens_141.jpg',\n",
       " './paintings/Albrecht_DuÌ\\x88rer_136.jpg',\n",
       " './paintings/Sandro_Botticelli_2.jpg',\n",
       " './paintings/Andy_Warhol_38.jpg',\n",
       " './paintings/Titian_5.jpg',\n",
       " './paintings/Kazimir_Malevich_28.jpg',\n",
       " './paintings/Francisco_Goya_241.jpg',\n",
       " './paintings/Vincent_van_Gogh_291.jpg',\n",
       " './paintings/Mikhail_Vrubel_40.jpg',\n",
       " './paintings/Diego_Rivera_69.jpg',\n",
       " './paintings/Albrecht_DuÌ\\x88rer_309.jpg',\n",
       " './paintings/Rene_Magritte_7.jpg',\n",
       " './paintings/Pierre-Auguste_Renoir_223.jpg',\n",
       " './paintings/Paul_Gauguin_223.jpg',\n",
       " './paintings/Vincent_van_Gogh_62.jpg',\n",
       " './paintings/Vincent_van_Gogh_118.jpg',\n",
       " './paintings/Rembrandt_189.jpg',\n",
       " './paintings/Piet_Mondrian_41.jpg',\n",
       " './paintings/Sandro_Botticelli_59.jpg',\n",
       " './paintings/Albrecht_Duâ\\x95\\xa0Ãªrer_316.jpg',\n",
       " './paintings/Vincent_van_Gogh_695.jpg',\n",
       " './paintings/Alfred_Sisley_53.jpg',\n",
       " './paintings/Marc_Chagall_20.jpg',\n",
       " './paintings/Albrecht_DuÌ\\x88rer_56.jpg',\n",
       " './paintings/Joan_Miro_19.jpg',\n",
       " './paintings/Frida_Kahlo_58.jpg',\n",
       " './paintings/Albrecht_Duâ\\x95\\xa0Ãªrer_114.jpg',\n",
       " './paintings/Andrei_Rublev_20.jpg',\n",
       " './paintings/Frida_Kahlo_72.jpg',\n",
       " './paintings/Joan_Miro_33.jpg',\n",
       " './paintings/Pierre-Auguste_Renoir_180.jpg',\n",
       " './paintings/Vincent_van_Gogh_442.jpg',\n",
       " './paintings/El_Greco_34.jpg',\n",
       " './paintings/Marc_Chagall_239.jpg',\n",
       " './paintings/Sandro_Botticelli_73.jpg',\n",
       " './paintings/Albrecht_DuÌ\\x88rer_280.jpg',\n",
       " './paintings/Rembrandt_174.jpg',\n",
       " './paintings/Vincent_van_Gogh_132.jpg',\n",
       " './paintings/Paul_Gauguin_209.jpg',\n",
       " './paintings/Jan_van_Eyck_80.jpg',\n",
       " './paintings/Pierre-Auguste_Renoir_209.jpg',\n",
       " './paintings/Georges_Seurat_40.jpg',\n",
       " './paintings/Titian_117.jpg',\n",
       " './paintings/Peter_Paul_Rubens_11.jpg',\n",
       " './paintings/Pablo_Picasso_315.jpg',\n",
       " './paintings/Marc_Chagall_167.jpg',\n",
       " './paintings/Leonardo_da_Vinci_115.jpg',\n",
       " './paintings/Jan_van_Eyck_2.jpg',\n",
       " './paintings/Albrecht_DuÌ\\x88rer_323.jpg',\n",
       " './paintings/Alfred_Sisley_136.jpg',\n",
       " './paintings/Giotto_di_Bondone_56.jpg',\n",
       " './paintings/Edgar_Degas_228.jpg',\n",
       " './paintings/Claude_Monet_11.jpg',\n",
       " './paintings/Rembrandt_202.jpg',\n",
       " './paintings/Camille_Pissarro_20.jpg',\n",
       " './paintings/Hieronymus_Bosch_76.jpg',\n",
       " './paintings/Andy_Warhol_115.jpg',\n",
       " './paintings/Paul_Gauguin_180.jpg',\n",
       " './paintings/Andy_Warhol_12.jpg',\n",
       " './paintings/Vincent_van_Gogh_536.jpg',\n",
       " './paintings/Pierre-Auguste_Renoir_30.jpg',\n",
       " './paintings/Paul_Klee_138.jpg',\n",
       " './paintings/Albrecht_DuÌ\\x88rer_121.jpg',\n",
       " './paintings/Pierre-Auguste_Renoir_25.jpg',\n",
       " './paintings/Henri_Rousseau_50.jpg',\n",
       " './paintings/Eugene_Delacroix_28.jpg',\n",
       " './paintings/Gustav_Klimt_63.jpg',\n",
       " './paintings/Camille_Pissarro_35.jpg',\n",
       " './paintings/Rembrandt_217.jpg',\n",
       " './paintings/Edouard_Manet_39.jpg',\n",
       " './paintings/Paul_Gauguin_195.jpg',\n",
       " './paintings/Edgar_Degas_567.jpg',\n",
       " './paintings/Gustave_Courbet_39.jpg',\n",
       " './paintings/Andy_Warhol_100.jpg',\n",
       " './paintings/Francisco_Goya_256.jpg',\n",
       " './paintings/Vasiliy_Kandinskiy_28.jpg',\n",
       " './paintings/Vincent_van_Gogh_709.jpg',\n",
       " './paintings/Eugene_Delacroix_6.jpg',\n",
       " './paintings/Leonardo_da_Vinci_100.jpg',\n",
       " './paintings/Titian_102.jpg',\n",
       " './paintings/Pablo_Picasso_300.jpg',\n",
       " './paintings/Rene_Magritte_13.jpg',\n",
       " './paintings/Vincent_van_Gogh_75.jpg',\n",
       " './paintings/Rembrandt_5.jpg',\n",
       " './paintings/Rembrandt_20.jpg',\n",
       " './paintings/Piet_Mondrian_56.jpg',\n",
       " './paintings/Albrecht_DuÌ\\x88rer_295.jpg',\n",
       " './paintings/Edgar_Degas_163.jpg',\n",
       " './paintings/Pieter_Bruegel_88.jpg',\n",
       " './paintings/Edgar_Degas_639.jpg',\n",
       " './paintings/Paul_Klee_15.jpg',\n",
       " './paintings/Albrecht_Duâ\\x95\\xa0Ãªrer_301.jpg',\n",
       " './paintings/Sandro_Botticelli_66.jpg',\n",
       " './paintings/Marc_Chagall_37.jpg',\n",
       " './paintings/Henri_de_Toulouse-Lautrec_68.jpg',\n",
       " './paintings/Albrecht_DuÌ\\x88rer_41.jpg',\n",
       " './paintings/Pierre-Auguste_Renoir_195.jpg',\n",
       " './paintings/Amedeo_Modigliani_89.jpg',\n",
       " './paintings/Vincent_van_Gogh_457.jpg',\n",
       " './paintings/Hieronymus_Bosch_128.jpg',\n",
       " './paintings/Joan_Miro_26.jpg',\n",
       " './paintings/Andrei_Rublev_35.jpg',\n",
       " './paintings/El_Greco_85.jpg',\n",
       " './paintings/Albrecht_Duâ\\x95\\xa0Ãªrer_158.jpg',\n",
       " './paintings/Joan_Miro_55.jpg',\n",
       " './paintings/Frida_Kahlo_14.jpg',\n",
       " './paintings/Sandro_Botticelli_106.jpg',\n",
       " './paintings/Marc_Chagall_44.jpg',\n",
       " './paintings/Vincent_van_Gogh_356.jpg',\n",
       " './paintings/Salvador_Dali_123.jpg',\n",
       " './paintings/Pablo_Picasso_207.jpg',\n",
       " './paintings/Vincent_van_Gogh_183.jpg',\n",
       " './paintings/Paul_Cezanne_39.jpg',\n",
       " './paintings/Vincent_van_Gogh_154.jpg',\n",
       " './paintings/Francisco_Goya_184.jpg',\n",
       " './paintings/Pablo_Picasso_401.jpg',\n",
       " './paintings/Alfred_Sisley_187.jpg',\n",
       " './paintings/Georges_Seurat_26.jpg',\n",
       " './paintings/Pablo_Picasso_373.jpg',\n",
       " './paintings/Titian_67.jpg',\n",
       " './paintings/Alfred_Sisley_150.jpg',\n",
       " './paintings/Marc_Chagall_101.jpg',\n",
       " './paintings/Diego_Rivera_25.jpg',\n",
       " './paintings/Vincent_van_Gogh_752.jpg',\n",
       " './paintings/Pablo_Picasso_171.jpg',\n",
       " './paintings/Andy_Warhol_173.jpg',\n",
       " './paintings/Pieter_Bruegel_115.jpg',\n",
       " './paintings/Vincent_van_Gogh_587.jpg',\n",
       " './paintings/Kazimir_Malevich_64.jpg',\n",
       " './paintings/Caravaggio_10.jpg',\n",
       " './paintings/Pierre-Auguste_Renoir_42.jpg',\n",
       " './paintings/Vincent_van_Gogh_550.jpg',\n",
       " './paintings/Andy_Warhol_74.jpg',\n",
       " './paintings/Albrecht_Duâ\\x95\\xa0Ãªrer_41.jpg',\n",
       " './paintings/Pierre-Auguste_Renoir_57.jpg',\n",
       " './paintings/Henri_Rousseau_36.jpg',\n",
       " './paintings/Pieter_Bruegel_100.jpg',\n",
       " './paintings/Kazimir_Malevich_71.jpg',\n",
       " './paintings/Claude_Monet_62.jpg',\n",
       " './paintings/Andy_Warhol_166.jpg',\n",
       " './paintings/Edgar_Degas_501.jpg',\n",
       " './paintings/Pablo_Picasso_164.jpg',\n",
       " './paintings/Mikhail_Vrubel_19.jpg',\n",
       " './paintings/Pablo_Picasso_70.jpg',\n",
       " './paintings/Diego_Rivera_18.jpg',\n",
       " './paintings/Pierre-Auguste_Renoir_252.jpg',\n",
       " './paintings/Georges_Seurat_33.jpg',\n",
       " './paintings/Pablo_Picasso_366.jpg',\n",
       " './paintings/Francisco_Goya_191.jpg',\n",
       " './paintings/Rembrandt_52.jpg',\n",
       " './paintings/Paul_Gauguin_252.jpg',\n",
       " './paintings/Vincent_van_Gogh_13.jpg',\n",
       " './paintings/Paul_Klee_98.jpg',\n",
       " './paintings/Vincent_van_Gogh_169.jpg',\n",
       " './paintings/Sandro_Botticelli_14.jpg',\n",
       " './paintings/Alfred_Sisley_22.jpg',\n",
       " './paintings/Edgar_Degas_105.jpg',\n",
       " './paintings/Marc_Chagall_51.jpg',\n",
       " './paintings/Sandro_Botticelli_113.jpg',\n",
       " './paintings/Albrecht_Duâ\\x95\\xa0Ãªrer_165.jpg',\n",
       " './paintings/Joan_Miro_40.jpg',\n",
       " './paintings/Amedeo_Modigliani_38.jpg',\n",
       " './paintings/Amedeo_Modigliani_5.jpg',\n",
       " './paintings/Edgar_Degas_307.jpg',\n",
       " './paintings/Andrei_Rublev_4.jpg',\n",
       " './paintings/Frida_Kahlo_29.jpg',\n",
       " './paintings/Titian_210.jpg',\n",
       " './paintings/Andrei_Rublev_79.jpg',\n",
       " './paintings/Salvador_Dali_84.jpg',\n",
       " './paintings/Henri_de_Toulouse-Lautrec_24.jpg',\n",
       " './paintings/Vincent_van_Gogh_341.jpg',\n",
       " './paintings/Edgar_Degas_488.jpg',\n",
       " './paintings/Andrei_Rublev_86.jpg',\n",
       " './paintings/Vincent_van_Gogh_802.jpg',\n",
       " './paintings/Edgar_Degas_675.jpg',\n",
       " './paintings/Henri_Matisse_157.jpg',\n",
       " './paintings/Pierre-Auguste_Renoir_324.jpg',\n",
       " './paintings/Vincent_van_Gogh_39.jpg',\n",
       " './paintings/Pablo_Picasso_416.jpg',\n",
       " './paintings/William_Turner_30.jpg',\n",
       " './paintings/Rene_Magritte_147.jpg',\n",
       " './paintings/Paul_Gauguin_87.jpg',\n",
       " './paintings/Georges_Seurat_19.jpg',\n",
       " './paintings/Henri_Matisse_46.jpg',\n",
       " './paintings/Mikhail_Vrubel_33.jpg',\n",
       " './paintings/Rene_Magritte_190.jpg',\n",
       " './paintings/Marc_Chagall_116.jpg',\n",
       " './paintings/Diego_Rivera_32.jpg',\n",
       " './paintings/Vincent_van_Gogh_745.jpg',\n",
       " './paintings/Paul_Gauguin_50.jpg',\n",
       " './paintings/Claude_Monet_48.jpg',\n",
       " './paintings/Albrecht_DuÌ\\x88rer_187.jpg',\n",
       " './paintings/Edgar_Degas_271.jpg',\n",
       " './paintings/Vasiliy_Kandinskiy_64.jpg',\n",
       " './paintings/Giotto_di_Bondone_27.jpg',\n",
       " './paintings/Camille_Pissarro_79.jpg',\n",
       " './paintings/Edouard_Manet_75.jpg',\n",
       " './paintings/Peter_Paul_Rubens_127.jpg',\n",
       " './paintings/Camille_Pissarro_86.jpg',\n",
       " './paintings/Albrecht_DuÌ\\x88rer_150.jpg',\n",
       " './paintings/Paul_Klee_174.jpg',\n",
       " './paintings/Albrecht_Duâ\\x95\\xa0Ãªrer_56.jpg',\n",
       " './paintings/Henri_Rousseau_21.jpg',\n",
       " './paintings/Gustav_Klimt_12.jpg',\n",
       " './paintings/Francisco_Goya_227.jpg',\n",
       " './paintings/Andy_Warhol_159.jpg',\n",
       " './paintings/Edouard_Manet_60.jpg',\n",
       " './paintings/Edgar_Degas_264.jpg',\n",
       " './paintings/Vasiliy_Kandinskiy_71.jpg',\n",
       " './paintings/Edgar_Degas_516.jpg',\n",
       " './paintings/Andy_Warhol_89.jpg',\n",
       " './paintings/Mikhail_Vrubel_26.jpg',\n",
       " './paintings/Pablo_Picasso_359.jpg',\n",
       " './paintings/El_Greco_1.jpg',\n",
       " './paintings/Henri_Matisse_53.jpg',\n",
       " './paintings/Pierre-Auguste_Renoir_245.jpg',\n",
       " './paintings/Piet_Mondrian_27.jpg',\n",
       " './paintings/Pieter_Bruegel_12.jpg',\n",
       " './paintings/Rembrandt_45.jpg',\n",
       " './paintings/Paul_Gauguin_245.jpg',\n",
       " './paintings/Pierre-Auguste_Renoir_331.jpg',\n",
       " './paintings/Rembrandt_138.jpg',\n",
       " './paintings/Vincent_van_Gogh_817.jpg',\n",
       " './paintings/Edgar_Degas_112.jpg',\n",
       " './paintings/Henri_Matisse_142.jpg',\n",
       " './paintings/Edgar_Degas_660.jpg',\n",
       " './paintings/El_Greco_78.jpg',\n",
       " './paintings/Henri_de_Toulouse-Lautrec_31.jpg',\n",
       " './paintings/Andrei_Rublev_93.jpg',\n",
       " './paintings/Salvador_Dali_109.jpg',\n",
       " './paintings/Salvador_Dali_91.jpg',\n",
       " './paintings/Albrecht_Duâ\\x95\\xa0Ãªrer_172.jpg',\n",
       " './paintings/Leonardo_da_Vinci_12.jpg',\n",
       " './paintings/Mikhail_Vrubel_138.jpg',\n",
       " './paintings/Edgar_Degas_70.jpg',\n",
       " './paintings/Pierre-Auguste_Renoir_137.jpg',\n",
       " './paintings/Marc_Chagall_95.jpg',\n",
       " './paintings/Edgar_Degas_466.jpg',\n",
       " './paintings/Edgar_Degas_314.jpg',\n",
       " './paintings/Edgar_Degas_60.jpg',\n",
       " './paintings/Joan_Miro_84.jpg',\n",
       " './paintings/Edgar_Degas_2.jpg',\n",
       " './paintings/Sandro_Botticelli_128.jpg',\n",
       " './paintings/Alfred_Sisley_208.jpg',\n",
       " './paintings/Albrecht_DuÌ\\x88rer_34.jpg',\n",
       " './paintings/Vincent_van_Gogh_378.jpg',\n",
       " './paintings/Alfred_Sisley_31.jpg',\n",
       " './paintings/Pablo_Picasso_229.jpg',\n",
       " './paintings/Jackson_Pollock_15.jpg',\n",
       " './paintings/Francisco_Goya_155.jpg',\n",
       " './paintings/Rembrandt_96.jpg',\n",
       " './paintings/Paul_Gauguin_296.jpg',\n",
       " './paintings/Paul_Cezanne_17.jpg',\n",
       " './paintings/Albrecht_DuÌ\\x88rer_237.jpg',\n",
       " './paintings/Vincent_van_Gogh_608.jpg',\n",
       " './paintings/Albrecht_Duâ\\x95\\xa0Ãªrer_200.jpg',\n",
       " './paintings/Peter_Paul_Rubens_71.jpg',\n",
       " './paintings/Rene_Magritte_72.jpg',\n",
       " './paintings/Jan_van_Eyck_37.jpg',\n",
       " './paintings/Pierre-Auguste_Renoir_296.jpg',\n",
       " './paintings/Amedeo_Modigliani_148.jpg',\n",
       " './paintings/Pablo_Picasso_63.jpg',\n",
       " './paintings/Francisco_Goya_29.jpg',\n",
       " './paintings/Albrecht_Duâ\\x95\\xa0Ãªrer_85.jpg',\n",
       " './paintings/Pierre-Auguste_Renoir_93.jpg',\n",
       " './paintings/Paul_Gauguin_137.jpg',\n",
       " './paintings/Vincent_van_Gogh_219.jpg',\n",
       " './paintings/Kazimir_Malevich_4.jpg',\n",
       " './paintings/Paul_Gauguin_122.jpg',\n",
       " './paintings/Vincent_van_Gogh_543.jpg',\n",
       " './paintings/Andy_Warhol_67.jpg',\n",
       " './paintings/Pierre-Auguste_Renoir_79.jpg',\n",
       " './paintings/Pierre-Auguste_Renoir_86.jpg',\n",
       " './paintings/Vincent_van_Gogh_594.jpg',\n",
       " './paintings/Alfred_Sisley_143.jpg',\n",
       " './paintings/Titian_74.jpg',\n",
       " './paintings/Jan_van_Eyck_22.jpg',\n",
       " './paintings/Peter_Paul_Rubens_64.jpg',\n",
       " './paintings/Alfred_Sisley_194.jpg',\n",
       " './paintings/Frida_Kahlo_101.jpg',\n",
       " './paintings/Vincent_van_Gogh_796.jpg',\n",
       " './paintings/Albrecht_Duâ\\x95\\xa0Ãªrer_215.jpg',\n",
       " './paintings/Vincent_van_Gogh_4.jpg',\n",
       " './paintings/Albrecht_DuÌ\\x88rer_222.jpg',\n",
       " './paintings/Vincent_van_Gogh_147.jpg',\n",
       " './paintings/Pablo_Picasso_214.jpg',\n",
       " './paintings/Rembrandt_101.jpg',\n",
       " './paintings/Paul_Klee_61.jpg',\n",
       " './paintings/Vincent_van_Gogh_190.jpg',\n",
       " './paintings/Kazimir_Malevich_120.jpg',\n",
       " './paintings/Francisco_Goya_140.jpg',\n",
       " './paintings/El_Greco_41.jpg',\n",
       " './paintings/Pablo_Picasso_9.jpg',\n",
       " './paintings/Joan_Miro_91.jpg',\n",
       " './paintings/Salvador_Dali_130.jpg',\n",
       " ...]"
      ]
     },
     "execution_count": 4,
     "metadata": {},
     "output_type": "execute_result"
    }
   ],
   "source": [
    "import glob\n",
    "\n",
    "dataset_paths = glob.glob(\"./paintings/*.jpg\")\n",
    "dataset_paths"
   ]
  },
  {
   "cell_type": "code",
   "execution_count": 19,
   "metadata": {
    "ExecuteTime": {
     "end_time": "2021-06-30T07:24:39.019570Z",
     "start_time": "2021-06-30T07:24:39.014288Z"
    }
   },
   "outputs": [
    {
     "data": {
      "text/plain": [
       "1085"
      ]
     },
     "execution_count": 19,
     "metadata": {},
     "output_type": "execute_result"
    }
   ],
   "source": [
    "len(dataset_paths)"
   ]
  },
  {
   "cell_type": "markdown",
   "metadata": {},
   "source": [
    "❓ **Display the image at index `53` of this dataset_paths (i.e the 54-th image)**\n",
    "\n",
    "<details>\n",
    "    <summary>Hint</summary>\n",
    "    Use the <code>PIL.Image.open</code> and <code>matplotlib.pyplot.imshow</code> functions.\n",
    "</details>"
   ]
  },
  {
   "cell_type": "code",
   "execution_count": 6,
   "metadata": {
    "ExecuteTime": {
     "end_time": "2021-06-30T07:13:47.608713Z",
     "start_time": "2021-06-30T07:13:46.934091Z"
    },
    "scrolled": false,
    "tags": [
     "challengify"
    ]
   },
   "outputs": [
    {
     "data": {
      "image/png": "[encoded data removed]",
      "text/plain": [
       "<Figure size 432x288 with 1 Axes>"
      ]
     },
     "metadata": {
      "needs_background": "light"
     },
     "output_type": "display_data"
    }
   ],
   "source": [
    "# YOUR CODE HERE\n",
    "\n",
    "# get the path of the image at index 53\n",
    "path_53 = dataset_paths[53]\n",
    "\n",
    "# open the image \n",
    "from PIL import Image\n",
    "import matplotlib.pyplot as plt\n",
    "\n",
    "with Image.open(path_53) as im:\n",
    "    plt.imshow(im)"
   ]
  },
  {
   "cell_type": "markdown",
   "metadata": {},
   "source": [
    "❓ **What is the shape of the image you displayed above `img_shape`?  How many dimensions `img_dim` does it have ?**"
   ]
  },
  {
   "cell_type": "code",
   "execution_count": 15,
   "metadata": {
    "ExecuteTime": {
     "end_time": "2021-06-30T07:19:39.752652Z",
     "start_time": "2021-06-30T07:19:39.744381Z"
    },
    "tags": [
     "challengify"
    ]
   },
   "outputs": [
    {
     "data": {
      "text/plain": [
       "(517, 614)"
      ]
     },
     "execution_count": 15,
     "metadata": {},
     "output_type": "execute_result"
    }
   ],
   "source": [
    "# YOUR CODE HERE\n",
    "\n",
    "# shape of the image \n",
    "pixels = Image.open(path_53)\n",
    "img_shape = pixels.size\n",
    "\n",
    "img_shape"
   ]
  },
  {
   "cell_type": "code",
   "execution_count": 36,
   "metadata": {
    "ExecuteTime": {
     "end_time": "2021-06-30T07:38:14.851240Z",
     "start_time": "2021-06-30T07:38:14.837948Z"
    }
   },
   "outputs": [
    {
     "data": {
      "text/plain": [
       "(614, 517, 3)"
      ]
     },
     "execution_count": 36,
     "metadata": {},
     "output_type": "execute_result"
    }
   ],
   "source": [
    "import numpy as np\n",
    "im = Image.open(path_53)\n",
    "a = np.asarray(im)\n",
    "a.shape"
   ]
  },
  {
   "cell_type": "code",
   "execution_count": 16,
   "metadata": {
    "ExecuteTime": {
     "end_time": "2021-06-30T07:23:46.335764Z",
     "start_time": "2021-06-30T07:23:46.332410Z"
    }
   },
   "outputs": [],
   "source": [
    "# as it is a colourful image -> 3 dimensions for RGB\n",
    "img_dim = 3"
   ]
  },
  {
   "cell_type": "markdown",
   "metadata": {},
   "source": [
    "❓ **What was in the image above?**"
   ]
  },
  {
   "cell_type": "code",
   "execution_count": 17,
   "metadata": {
    "ExecuteTime": {
     "end_time": "2021-06-30T07:23:47.766755Z",
     "start_time": "2021-06-30T07:23:47.763485Z"
    }
   },
   "outputs": [],
   "source": [
    "img_shape = img_shape\n",
    "img_dim = img_dim\n",
    "\n",
    "# Uncomment the correct answer\n",
    "\n",
    "is_portrait = True\n",
    "#is_portrait = False\n",
    "\n",
    "is_colored_image = True\n",
    "#is_colored_image = False"
   ]
  },
  {
   "cell_type": "code",
   "execution_count": 18,
   "metadata": {
    "ExecuteTime": {
     "end_time": "2021-06-30T07:23:49.385241Z",
     "start_time": "2021-06-30T07:23:49.346076Z"
    }
   },
   "outputs": [],
   "source": [
    "from nbresult import ChallengeResult\n",
    "result = ChallengeResult(\n",
    "    'data_loading',\n",
    "    img_shape=img_shape,\n",
    "    img_dim=img_dim,\n",
    "    is_portrait=is_portrait,\n",
    "    is_colored_image=is_colored_image\n",
    ")\n",
    "\n",
    "result.write()"
   ]
  },
  {
   "cell_type": "markdown",
   "metadata": {},
   "source": [
    "## 2. Processing"
   ]
  },
  {
   "cell_type": "markdown",
   "metadata": {},
   "source": [
    "❓ **Store all images from the dataset folder in a list of numpy arrays called `dataset_images`**\n",
    "\n",
    "- It can take a while\n",
    "- If the dataset is too big to fit in memory, just take the first half (or quarter) of all pictures"
   ]
  },
  {
   "cell_type": "code",
   "execution_count": 26,
   "metadata": {
    "ExecuteTime": {
     "end_time": "2021-06-30T07:28:07.463966Z",
     "start_time": "2021-06-30T07:28:07.451511Z"
    },
    "collapsed": true
   },
   "outputs": [
    {
     "data": {
      "text/plain": [
       "array([[[57, 41, 25],\n",
       "        [53, 37, 22],\n",
       "        [44, 28, 13],\n",
       "        ...,\n",
       "        [63, 53, 41],\n",
       "        [62, 52, 42],\n",
       "        [47, 37, 28]],\n",
       "\n",
       "       [[56, 40, 25],\n",
       "        [54, 38, 23],\n",
       "        [50, 32, 20],\n",
       "        ...,\n",
       "        [64, 50, 39],\n",
       "        [63, 51, 39],\n",
       "        [49, 39, 29]],\n",
       "\n",
       "       [[49, 31, 21],\n",
       "        [51, 33, 23],\n",
       "        [50, 32, 20],\n",
       "        ...,\n",
       "        [64, 46, 34],\n",
       "        [56, 42, 31],\n",
       "        [44, 32, 20]],\n",
       "\n",
       "       ...,\n",
       "\n",
       "       [[50, 36, 25],\n",
       "        [47, 34, 25],\n",
       "        [54, 41, 32],\n",
       "        ...,\n",
       "        [35, 26, 17],\n",
       "        [40, 31, 22],\n",
       "        [45, 36, 27]],\n",
       "\n",
       "       [[61, 47, 36],\n",
       "        [57, 43, 32],\n",
       "        [67, 53, 42],\n",
       "        ...,\n",
       "        [41, 32, 23],\n",
       "        [44, 35, 26],\n",
       "        [49, 39, 30]],\n",
       "\n",
       "       [[67, 53, 42],\n",
       "        [61, 47, 36],\n",
       "        [67, 53, 42],\n",
       "        ...,\n",
       "        [42, 33, 26],\n",
       "        [46, 37, 28],\n",
       "        [51, 41, 32]]], dtype=uint8)"
      ]
     },
     "execution_count": 26,
     "metadata": {},
     "output_type": "execute_result"
    }
   ],
   "source": [
    "#check for one \n",
    "import numpy as np\n",
    "im = Image.open(path_53)\n",
    "a = np.asarray(im)\n",
    "a"
   ]
  },
  {
   "cell_type": "code",
   "execution_count": 27,
   "metadata": {
    "ExecuteTime": {
     "end_time": "2021-06-30T07:29:00.591077Z",
     "start_time": "2021-06-30T07:28:52.219934Z"
    },
    "tags": [
     "challengify"
    ]
   },
   "outputs": [],
   "source": [
    "# YOUR CODE HERE\n",
    "\n",
    "dataset_images = []\n",
    "\n",
    "for img in dataset_paths:\n",
    "    pixels = Image.open(img)\n",
    "    a = np.asarray(pixels)\n",
    "    dataset_images.append(a)\n"
   ]
  },
  {
   "cell_type": "code",
   "execution_count": 29,
   "metadata": {
    "ExecuteTime": {
     "end_time": "2021-06-30T07:29:31.538324Z",
     "start_time": "2021-06-30T07:29:31.533047Z"
    }
   },
   "outputs": [
    {
     "data": {
      "text/plain": [
       "(1085, 358)"
      ]
     },
     "execution_count": 29,
     "metadata": {},
     "output_type": "execute_result"
    }
   ],
   "source": [
    "len(dataset_images), len(dataset_images[0])"
   ]
  },
  {
   "cell_type": "markdown",
   "metadata": {},
   "source": [
    "### 2.1 Reshape, Resize, Rescale\n",
    "\n",
    "Let's simplify our dataset and convert it to a single numpy array"
   ]
  },
  {
   "cell_type": "markdown",
   "metadata": {},
   "source": [
    "❓ **First, check if that all the images in the dataset have the same number of dimensions**.\n",
    "- What do you notice?\n",
    "- How do you explain it? "
   ]
  },
  {
   "cell_type": "code",
   "execution_count": 71,
   "metadata": {
    "ExecuteTime": {
     "end_time": "2021-06-30T08:07:06.914445Z",
     "start_time": "2021-06-30T08:07:06.911398Z"
    }
   },
   "outputs": [],
   "source": [
    "# YOUR CODE HERE\n",
    "import pandas as pd"
   ]
  },
  {
   "cell_type": "code",
   "execution_count": 56,
   "metadata": {
    "ExecuteTime": {
     "end_time": "2021-06-30T07:53:26.969739Z",
     "start_time": "2021-06-30T07:53:26.963236Z"
    }
   },
   "outputs": [
    {
     "data": {
      "text/plain": [
       "(627, 604, 3)"
      ]
     },
     "execution_count": 56,
     "metadata": {},
     "output_type": "execute_result"
    }
   ],
   "source": [
    "images[1].shape"
   ]
  },
  {
   "cell_type": "code",
   "execution_count": 64,
   "metadata": {
    "ExecuteTime": {
     "end_time": "2021-06-30T07:59:03.570484Z",
     "start_time": "2021-06-30T07:59:03.564850Z"
    }
   },
   "outputs": [],
   "source": [
    "list_dim = []\n",
    "for img in dataset_images:\n",
    "    list_dim.append(len(np.asarray(img).shape))"
   ]
  },
  {
   "cell_type": "code",
   "execution_count": 65,
   "metadata": {
    "ExecuteTime": {
     "end_time": "2021-06-30T07:59:32.118681Z",
     "start_time": "2021-06-30T07:59:32.112743Z"
    }
   },
   "outputs": [
    {
     "name": "stdout",
     "output_type": "stream",
     "text": [
      "72\n",
      "1013\n"
     ]
    }
   ],
   "source": [
    "print(list_dim.count(2))\n",
    "print(list_dim.count(3))"
   ]
  },
  {
   "cell_type": "markdown",
   "metadata": {},
   "source": [
    "> It seems that the images in the dataset don't have the same number of dimensions. Some images are in black and white. Thus they only have 2 dimensions (72 images)."
   ]
  },
  {
   "cell_type": "markdown",
   "metadata": {},
   "source": [
    "👉 We convert for you all black & white images into 3-colored ones by duplicating the image on three channels, so as to have only 3D arrays"
   ]
  },
  {
   "cell_type": "code",
   "execution_count": 68,
   "metadata": {
    "ExecuteTime": {
     "end_time": "2021-06-30T08:01:48.097385Z",
     "start_time": "2021-06-30T08:01:46.884841Z"
    },
    "scrolled": true
   },
   "outputs": [
    {
     "name": "stderr",
     "output_type": "stream",
     "text": [
      "100%|██████████| 1085/1085 [00:01<00:00, 937.89it/s]\n"
     ]
    },
    {
     "data": {
      "text/plain": [
       "{3}"
      ]
     },
     "execution_count": 68,
     "metadata": {},
     "output_type": "execute_result"
    }
   ],
   "source": [
    "from tqdm import tqdm\n",
    "\n",
    "dataset_images = [x if x.ndim==3 else np.repeat(x[:,:,None], 3, axis=2) for x in tqdm(dataset_images)]\n",
    "set([x.ndim for x in dataset_images])"
   ]
  },
  {
   "cell_type": "markdown",
   "metadata": {},
   "source": [
    "❓ **What about their shape now ?**\n",
    "- Do they all have the same width/heights ? If not:\n",
    "- Resize the images (120 pixels height and 100 pixels width) in the dataset, using `tensorflow.image.resize` function.\n",
    "- Now that they all have the same shape, store them as a numpy array `dataset_resized`.\n",
    "- This array should thus be of size $(n_{images}, 120, 100, 3)$"
   ]
  },
  {
   "cell_type": "code",
   "execution_count": 73,
   "metadata": {
    "ExecuteTime": {
     "end_time": "2021-06-30T08:08:48.530600Z",
     "start_time": "2021-06-30T08:08:48.524827Z"
    },
    "tags": [
     "challengify"
    ]
   },
   "outputs": [
    {
     "data": {
      "text/plain": [
       "(614, 517, 3)"
      ]
     },
     "execution_count": 73,
     "metadata": {},
     "output_type": "execute_result"
    }
   ],
   "source": [
    "# YOUR CODE HERE\n",
    "\n",
    "#check the shape : height, width, dim\n",
    "dataset_images[53].shape"
   ]
  },
  {
   "cell_type": "code",
   "execution_count": 74,
   "metadata": {
    "ExecuteTime": {
     "end_time": "2021-06-30T08:10:01.874470Z",
     "start_time": "2021-06-30T08:10:01.869165Z"
    }
   },
   "outputs": [
    {
     "data": {
      "text/plain": [
       "(627, 604, 3)"
      ]
     },
     "execution_count": 74,
     "metadata": {},
     "output_type": "execute_result"
    }
   ],
   "source": [
    "dataset_images[1].shape"
   ]
  },
  {
   "cell_type": "code",
   "execution_count": 81,
   "metadata": {
    "ExecuteTime": {
     "end_time": "2021-06-30T08:26:53.261498Z",
     "start_time": "2021-06-30T08:26:53.251801Z"
    }
   },
   "outputs": [
    {
     "name": "stdout",
     "output_type": "stream",
     "text": [
      "height max: 1459 min: 140\n",
      "width max: 1634 min: 124\n"
     ]
    }
   ],
   "source": [
    "height = []\n",
    "width = []\n",
    "\n",
    "\n",
    "for img in dataset_images:\n",
    "    height.append(np.asarray(img).shape[0])\n",
    "    width.append(np.asarray(img).shape[1])\n",
    "    \n",
    "print(\"height\", \"max:\", max(height), \"min:\", min(height))\n",
    "print(\"width\", \"max:\", max(width), \"min:\", min(width))"
   ]
  },
  {
   "cell_type": "code",
   "execution_count": 77,
   "metadata": {
    "ExecuteTime": {
     "end_time": "2021-06-30T08:15:46.575467Z",
     "start_time": "2021-06-30T08:15:46.567287Z"
    }
   },
   "outputs": [
    {
     "data": {
      "text/plain": [
       "TensorShape([120, 100, 3])"
      ]
     },
     "execution_count": 77,
     "metadata": {},
     "output_type": "execute_result"
    }
   ],
   "source": [
    "# resizing \n",
    "from tensorflow.image import resize\n",
    "\n",
    "#check for one \n",
    "resize(dataset_images[53], (120, 100)).shape"
   ]
  },
  {
   "cell_type": "code",
   "execution_count": 78,
   "metadata": {
    "ExecuteTime": {
     "end_time": "2021-06-30T08:16:16.902263Z",
     "start_time": "2021-06-30T08:16:14.879368Z"
    }
   },
   "outputs": [],
   "source": [
    "# resizing all\n",
    "\n",
    "resized_img = []\n",
    "\n",
    "for image in dataset_images:\n",
    "    resized_img.append(resize(image, (120, 100)))\n"
   ]
  },
  {
   "cell_type": "code",
   "execution_count": 82,
   "metadata": {
    "ExecuteTime": {
     "end_time": "2021-06-30T08:29:15.296408Z",
     "start_time": "2021-06-30T08:28:41.341354Z"
    }
   },
   "outputs": [
    {
     "ename": "KeyboardInterrupt",
     "evalue": "",
     "output_type": "error",
     "traceback": [
      "\u001b[0;31m---------------------------------------------------------------------------\u001b[0m",
      "\u001b[0;31mKeyboardInterrupt\u001b[0m                         Traceback (most recent call last)",
      "\u001b[0;32m<ipython-input-82-0ed7b7b3796f>\u001b[0m in \u001b[0;36m<module>\u001b[0;34m\u001b[0m\n\u001b[0;32m----> 1\u001b[0;31m \u001b[0mdataset_resized\u001b[0m \u001b[0;34m=\u001b[0m \u001b[0mnp\u001b[0m\u001b[0;34m.\u001b[0m\u001b[0marray\u001b[0m\u001b[0;34m(\u001b[0m\u001b[0mresized_img\u001b[0m\u001b[0;34m)\u001b[0m\u001b[0;34m\u001b[0m\u001b[0;34m\u001b[0m\u001b[0m\n\u001b[0m",
      "\u001b[0;32m~/.pyenv/versions/3.8.6/envs/data/lib/python3.8/site-packages/tensorflow/python/framework/ops.py\u001b[0m in \u001b[0;36m__next__\u001b[0;34m(self)\u001b[0m\n\u001b[1;32m   6928\u001b[0m     \u001b[0;32mif\u001b[0m \u001b[0mself\u001b[0m\u001b[0;34m.\u001b[0m\u001b[0m_index\u001b[0m \u001b[0;34m==\u001b[0m \u001b[0mself\u001b[0m\u001b[0;34m.\u001b[0m\u001b[0m_limit\u001b[0m\u001b[0;34m:\u001b[0m\u001b[0;34m\u001b[0m\u001b[0;34m\u001b[0m\u001b[0m\n\u001b[1;32m   6929\u001b[0m       \u001b[0;32mraise\u001b[0m \u001b[0mStopIteration\u001b[0m\u001b[0;34m\u001b[0m\u001b[0;34m\u001b[0m\u001b[0m\n\u001b[0;32m-> 6930\u001b[0;31m     \u001b[0mresult\u001b[0m \u001b[0;34m=\u001b[0m \u001b[0mself\u001b[0m\u001b[0;34m.\u001b[0m\u001b[0m_tensor\u001b[0m\u001b[0;34m[\u001b[0m\u001b[0mself\u001b[0m\u001b[0;34m.\u001b[0m\u001b[0m_index\u001b[0m\u001b[0;34m]\u001b[0m\u001b[0;34m\u001b[0m\u001b[0;34m\u001b[0m\u001b[0m\n\u001b[0m\u001b[1;32m   6931\u001b[0m     \u001b[0mself\u001b[0m\u001b[0;34m.\u001b[0m\u001b[0m_index\u001b[0m \u001b[0;34m+=\u001b[0m \u001b[0;36m1\u001b[0m\u001b[0;34m\u001b[0m\u001b[0;34m\u001b[0m\u001b[0m\n\u001b[1;32m   6932\u001b[0m     \u001b[0;32mreturn\u001b[0m \u001b[0mresult\u001b[0m\u001b[0;34m\u001b[0m\u001b[0;34m\u001b[0m\u001b[0m\n",
      "\u001b[0;32m~/.pyenv/versions/3.8.6/envs/data/lib/python3.8/site-packages/tensorflow/python/util/dispatch.py\u001b[0m in \u001b[0;36mwrapper\u001b[0;34m(*args, **kwargs)\u001b[0m\n\u001b[1;32m    199\u001b[0m     \u001b[0;34m\"\"\"Call target, and fall back on dispatchers if there is a TypeError.\"\"\"\u001b[0m\u001b[0;34m\u001b[0m\u001b[0;34m\u001b[0m\u001b[0m\n\u001b[1;32m    200\u001b[0m     \u001b[0;32mtry\u001b[0m\u001b[0;34m:\u001b[0m\u001b[0;34m\u001b[0m\u001b[0;34m\u001b[0m\u001b[0m\n\u001b[0;32m--> 201\u001b[0;31m       \u001b[0;32mreturn\u001b[0m \u001b[0mtarget\u001b[0m\u001b[0;34m(\u001b[0m\u001b[0;34m*\u001b[0m\u001b[0margs\u001b[0m\u001b[0;34m,\u001b[0m \u001b[0;34m**\u001b[0m\u001b[0mkwargs\u001b[0m\u001b[0;34m)\u001b[0m\u001b[0;34m\u001b[0m\u001b[0;34m\u001b[0m\u001b[0m\n\u001b[0m\u001b[1;32m    202\u001b[0m     \u001b[0;32mexcept\u001b[0m \u001b[0;34m(\u001b[0m\u001b[0mTypeError\u001b[0m\u001b[0;34m,\u001b[0m \u001b[0mValueError\u001b[0m\u001b[0;34m)\u001b[0m\u001b[0;34m:\u001b[0m\u001b[0;34m\u001b[0m\u001b[0;34m\u001b[0m\u001b[0m\n\u001b[1;32m    203\u001b[0m       \u001b[0;31m# Note: convert_to_eager_tensor currently raises a ValueError, not a\u001b[0m\u001b[0;34m\u001b[0m\u001b[0;34m\u001b[0m\u001b[0;34m\u001b[0m\u001b[0m\n",
      "\u001b[0;32m~/.pyenv/versions/3.8.6/envs/data/lib/python3.8/site-packages/tensorflow/python/ops/array_ops.py\u001b[0m in \u001b[0;36m_slice_helper\u001b[0;34m(tensor, slice_spec, var)\u001b[0m\n\u001b[1;32m   1011\u001b[0m       \u001b[0mvar_empty\u001b[0m \u001b[0;34m=\u001b[0m \u001b[0mconstant\u001b[0m\u001b[0;34m(\u001b[0m\u001b[0;34m[\u001b[0m\u001b[0;34m]\u001b[0m\u001b[0;34m,\u001b[0m \u001b[0mdtype\u001b[0m\u001b[0;34m=\u001b[0m\u001b[0mdtypes\u001b[0m\u001b[0;34m.\u001b[0m\u001b[0mint32\u001b[0m\u001b[0;34m)\u001b[0m\u001b[0;34m\u001b[0m\u001b[0;34m\u001b[0m\u001b[0m\n\u001b[1;32m   1012\u001b[0m       \u001b[0mpacked_begin\u001b[0m \u001b[0;34m=\u001b[0m \u001b[0mpacked_end\u001b[0m \u001b[0;34m=\u001b[0m \u001b[0mpacked_strides\u001b[0m \u001b[0;34m=\u001b[0m \u001b[0mvar_empty\u001b[0m\u001b[0;34m\u001b[0m\u001b[0;34m\u001b[0m\u001b[0m\n\u001b[0;32m-> 1013\u001b[0;31m     return strided_slice(\n\u001b[0m\u001b[1;32m   1014\u001b[0m         \u001b[0mtensor\u001b[0m\u001b[0;34m,\u001b[0m\u001b[0;34m\u001b[0m\u001b[0;34m\u001b[0m\u001b[0m\n\u001b[1;32m   1015\u001b[0m         \u001b[0mpacked_begin\u001b[0m\u001b[0;34m,\u001b[0m\u001b[0;34m\u001b[0m\u001b[0;34m\u001b[0m\u001b[0m\n",
      "\u001b[0;32m~/.pyenv/versions/3.8.6/envs/data/lib/python3.8/site-packages/tensorflow/python/util/dispatch.py\u001b[0m in \u001b[0;36mwrapper\u001b[0;34m(*args, **kwargs)\u001b[0m\n\u001b[1;32m    199\u001b[0m     \u001b[0;34m\"\"\"Call target, and fall back on dispatchers if there is a TypeError.\"\"\"\u001b[0m\u001b[0;34m\u001b[0m\u001b[0;34m\u001b[0m\u001b[0m\n\u001b[1;32m    200\u001b[0m     \u001b[0;32mtry\u001b[0m\u001b[0;34m:\u001b[0m\u001b[0;34m\u001b[0m\u001b[0;34m\u001b[0m\u001b[0m\n\u001b[0;32m--> 201\u001b[0;31m       \u001b[0;32mreturn\u001b[0m \u001b[0mtarget\u001b[0m\u001b[0;34m(\u001b[0m\u001b[0;34m*\u001b[0m\u001b[0margs\u001b[0m\u001b[0;34m,\u001b[0m \u001b[0;34m**\u001b[0m\u001b[0mkwargs\u001b[0m\u001b[0;34m)\u001b[0m\u001b[0;34m\u001b[0m\u001b[0;34m\u001b[0m\u001b[0m\n\u001b[0m\u001b[1;32m    202\u001b[0m     \u001b[0;32mexcept\u001b[0m \u001b[0;34m(\u001b[0m\u001b[0mTypeError\u001b[0m\u001b[0;34m,\u001b[0m \u001b[0mValueError\u001b[0m\u001b[0;34m)\u001b[0m\u001b[0;34m:\u001b[0m\u001b[0;34m\u001b[0m\u001b[0;34m\u001b[0m\u001b[0m\n\u001b[1;32m    203\u001b[0m       \u001b[0;31m# Note: convert_to_eager_tensor currently raises a ValueError, not a\u001b[0m\u001b[0;34m\u001b[0m\u001b[0;34m\u001b[0m\u001b[0;34m\u001b[0m\u001b[0m\n",
      "\u001b[0;32m~/.pyenv/versions/3.8.6/envs/data/lib/python3.8/site-packages/tensorflow/python/ops/array_ops.py\u001b[0m in \u001b[0;36mstrided_slice\u001b[0;34m(input_, begin, end, strides, begin_mask, end_mask, ellipsis_mask, new_axis_mask, shrink_axis_mask, var, name)\u001b[0m\n\u001b[1;32m   1184\u001b[0m     \u001b[0mstrides\u001b[0m \u001b[0;34m=\u001b[0m \u001b[0mones_like\u001b[0m\u001b[0;34m(\u001b[0m\u001b[0mbegin\u001b[0m\u001b[0;34m)\u001b[0m\u001b[0;34m\u001b[0m\u001b[0;34m\u001b[0m\u001b[0m\n\u001b[1;32m   1185\u001b[0m \u001b[0;34m\u001b[0m\u001b[0m\n\u001b[0;32m-> 1186\u001b[0;31m   op = gen_array_ops.strided_slice(\n\u001b[0m\u001b[1;32m   1187\u001b[0m       \u001b[0minput\u001b[0m\u001b[0;34m=\u001b[0m\u001b[0minput_\u001b[0m\u001b[0;34m,\u001b[0m\u001b[0;34m\u001b[0m\u001b[0;34m\u001b[0m\u001b[0m\n\u001b[1;32m   1188\u001b[0m       \u001b[0mbegin\u001b[0m\u001b[0;34m=\u001b[0m\u001b[0mbegin\u001b[0m\u001b[0;34m,\u001b[0m\u001b[0;34m\u001b[0m\u001b[0;34m\u001b[0m\u001b[0m\n",
      "\u001b[0;32m~/.pyenv/versions/3.8.6/envs/data/lib/python3.8/site-packages/tensorflow/python/ops/gen_array_ops.py\u001b[0m in \u001b[0;36mstrided_slice\u001b[0;34m(input, begin, end, strides, begin_mask, end_mask, ellipsis_mask, new_axis_mask, shrink_axis_mask, name)\u001b[0m\n\u001b[1;32m  10311\u001b[0m   \u001b[0;32mif\u001b[0m \u001b[0mtld\u001b[0m\u001b[0;34m.\u001b[0m\u001b[0mis_eager\u001b[0m\u001b[0;34m:\u001b[0m\u001b[0;34m\u001b[0m\u001b[0;34m\u001b[0m\u001b[0m\n\u001b[1;32m  10312\u001b[0m     \u001b[0;32mtry\u001b[0m\u001b[0;34m:\u001b[0m\u001b[0;34m\u001b[0m\u001b[0;34m\u001b[0m\u001b[0m\n\u001b[0;32m> 10313\u001b[0;31m       _result = pywrap_tfe.TFE_Py_FastPathExecute(\n\u001b[0m\u001b[1;32m  10314\u001b[0m         \u001b[0m_ctx\u001b[0m\u001b[0;34m.\u001b[0m\u001b[0m_context_handle\u001b[0m\u001b[0;34m,\u001b[0m \u001b[0mtld\u001b[0m\u001b[0;34m.\u001b[0m\u001b[0mdevice_name\u001b[0m\u001b[0;34m,\u001b[0m \u001b[0;34m\"StridedSlice\"\u001b[0m\u001b[0;34m,\u001b[0m \u001b[0mname\u001b[0m\u001b[0;34m,\u001b[0m\u001b[0;34m\u001b[0m\u001b[0;34m\u001b[0m\u001b[0m\n\u001b[1;32m  10315\u001b[0m         \u001b[0mtld\u001b[0m\u001b[0;34m.\u001b[0m\u001b[0mop_callbacks\u001b[0m\u001b[0;34m,\u001b[0m \u001b[0minput\u001b[0m\u001b[0;34m,\u001b[0m \u001b[0mbegin\u001b[0m\u001b[0;34m,\u001b[0m \u001b[0mend\u001b[0m\u001b[0;34m,\u001b[0m \u001b[0mstrides\u001b[0m\u001b[0;34m,\u001b[0m \u001b[0;34m\"begin_mask\"\u001b[0m\u001b[0;34m,\u001b[0m\u001b[0;34m\u001b[0m\u001b[0;34m\u001b[0m\u001b[0m\n",
      "\u001b[0;31mKeyboardInterrupt\u001b[0m: "
     ]
    }
   ],
   "source": [
    "dataset_resized = np.array(resized_img)"
   ]
  },
  {
   "cell_type": "code",
   "execution_count": null,
   "metadata": {
    "ExecuteTime": {
     "end_time": "2021-06-30T08:26:07.875598Z",
     "start_time": "2021-06-30T08:17:36.149Z"
    }
   },
   "outputs": [],
   "source": [
    "dataset_resized.ndim"
   ]
  },
  {
   "cell_type": "markdown",
   "metadata": {},
   "source": [
    "❓ **Rescale the data of each image between $0$ and $1$**\n",
    "- Save your resulting list as `dataset_scaled`"
   ]
  },
  {
   "cell_type": "code",
   "execution_count": 563,
   "metadata": {
    "ExecuteTime": {
     "end_time": "2021-06-23T10:28:50.891273Z",
     "start_time": "2021-06-23T10:28:50.782816Z"
    },
    "tags": [
     "challengify"
    ]
   },
   "outputs": [],
   "source": [
    "# YOUR CODE HERE\n",
    "print(np.max(dataset_resized), np.min(dataset_resized))"
   ]
  },
  {
   "cell_type": "markdown",
   "metadata": {},
   "source": [
    "### 2.2 Create (X,y) sets"
   ]
  },
  {
   "cell_type": "markdown",
   "metadata": {},
   "source": [
    "👉 Now, we'll add for you some **random noise** to our images to simulate noise (that our model will try to remove later)"
   ]
  },
  {
   "cell_type": "code",
   "execution_count": 566,
   "metadata": {
    "ExecuteTime": {
     "end_time": "2021-06-23T10:29:10.835518Z",
     "start_time": "2021-06-23T10:29:09.493359Z"
    }
   },
   "outputs": [],
   "source": [
    "NOISE_LEVEL = 0.2\n",
    "\n",
    "dataset_noisy = np.clip(\n",
    "    dataset_scaled + np.random.normal(\n",
    "        loc=0,\n",
    "        scale=NOISE_LEVEL,\n",
    "        size=dataset_scaled.shape\n",
    "    ).astype(np.float32),\n",
    "    0,\n",
    "    1\n",
    ")\n",
    "dataset_noisy.shape"
   ]
  },
  {
   "cell_type": "markdown",
   "metadata": {},
   "source": [
    "❓ **Plot a noisy image below to visualize the noise and compare it with the normal one**"
   ]
  },
  {
   "cell_type": "code",
   "execution_count": 571,
   "metadata": {
    "ExecuteTime": {
     "end_time": "2021-06-23T10:29:55.333783Z",
     "start_time": "2021-06-23T10:29:55.096888Z"
    },
    "tags": [
     "challengify"
    ]
   },
   "outputs": [],
   "source": [
    "# YOUR CODE HERE\n",
    "\n",
    "for i, (raw_image, resized_image) in enumerate(zip(dataset_images, dataset_resized)):\n",
    "    _, (ax1, ax2) = plt.subplots(1, 2, figsize=(6, 2))\n",
    "    ax1.imshow(raw_image)\n",
    "    ax2.imshow(resized_image[0])\n",
    "    plt.show()\n",
    "    \n",
    "    if i > 5:\n",
    "        break"
   ]
  },
  {
   "cell_type": "markdown",
   "metadata": {},
   "source": [
    "❓ **Create your `(X_train, Y_train)`, `(X_test, Y_test)` training set for your problem**\n",
    "\n",
    "- Remember you are trying to use \"noisy\" pictures in order to predict the \"normal\" ones.\n",
    "- Keeping about `20%` of randomly sampled data as test set"
   ]
  },
  {
   "cell_type": "code",
   "execution_count": 572,
   "metadata": {
    "ExecuteTime": {
     "end_time": "2021-06-23T10:30:07.250213Z",
     "start_time": "2021-06-23T10:30:07.064577Z"
    },
    "tags": [
     "challengify"
    ]
   },
   "outputs": [],
   "source": [
    "# YOUR CODE HERE\n",
    "\n"
   ]
  },
  {
   "cell_type": "code",
   "execution_count": 573,
   "metadata": {
    "ExecuteTime": {
     "end_time": "2021-06-23T10:30:09.276772Z",
     "start_time": "2021-06-23T10:30:09.182183Z"
    }
   },
   "outputs": [],
   "source": [
    "from nbresult import ChallengeResult\n",
    "result = ChallengeResult(\n",
    "    \"preprocessing\",\n",
    "    X_train_shape = X_train.shape,\n",
    "    Y_train_shape = Y_train.shape,\n",
    "    X_std = X_train[:,:,:,0].std(),\n",
    "    Y_std = Y_train[:,:,:,0].std(),\n",
    "    first_image = Y_train[0]\n",
    ")\n",
    "result.write()"
   ]
  },
  {
   "cell_type": "markdown",
   "metadata": {},
   "source": [
    "## 3. Convolutional Neural Network\n",
    "\n",
    "A commonly used neural network architecture for image denoising is the __AutoEncoder__.\n",
    "\n",
    "<img src='https://github.com/lewagon/data-images/blob/master/DL/autoencoder.png?raw=true'>\n",
    "\n",
    "Its goal is to learn a compact representation of your data to reconstruct them as precisely as possible.  \n",
    "The loss for such model must incentivize it to have __an output as close to the input as possible__.\n",
    "\n",
    "For this challenge, __you will only be asked to code the Encoder part of the network__, since building a Decoder leverages layers architectures you are not familiar with (yet)."
   ]
  },
  {
   "cell_type": "markdown",
   "metadata": {},
   "source": [
    "👉 Run this code below if you haven't managed to build your own (X,Y) training sets. This will load them as solution\n",
    "\n",
    "```python\n",
    "! curl https://wagon-public-datasets.s3.amazonaws.com/certification_france_2021_q2/data_painting_solution.pickle > data_painting_solution.pickle\n",
    "\n",
    "import pickle\n",
    "with open(\"data_painting_solution.pickle\", \"rb\") as file:\n",
    "    (X_train, Y_train, X_test, Y_test) = pickle.load(file)\n",
    "    \n",
    "! rm data_painting_solution.pickle\n",
    "```"
   ]
  },
  {
   "cell_type": "markdown",
   "metadata": {},
   "source": [
    "### 3.1 Architecture"
   ]
  },
  {
   "cell_type": "markdown",
   "metadata": {},
   "source": [
    "👉 Run the cell below that defines the decoder"
   ]
  },
  {
   "cell_type": "code",
   "execution_count": 575,
   "metadata": {
    "ExecuteTime": {
     "end_time": "2021-06-23T10:30:19.889423Z",
     "start_time": "2021-06-23T10:30:19.881148Z"
    }
   },
   "outputs": [],
   "source": [
    "import tensorflow as tf\n",
    "from tensorflow.keras import layers, losses, Sequential"
   ]
  },
  {
   "cell_type": "code",
   "execution_count": 576,
   "metadata": {
    "ExecuteTime": {
     "end_time": "2021-06-23T10:30:21.897416Z",
     "start_time": "2021-06-23T10:30:21.771372Z"
    }
   },
   "outputs": [],
   "source": [
    "# We choose to compress images into a latent_dimension of size 6000\n",
    "latent_dimensions = 6000\n",
    "\n",
    "# We build a decoder that takes 1D-vectors of size 6000 to reconstruct images of shape (120,100,3)\n",
    "decoder = Sequential(name='decoder')\n",
    "decoder.add(layers.Reshape((30, 25, 8), input_dim=latent_dimensions))\n",
    "decoder.add(layers.Conv2DTranspose(filters=16, kernel_size=3, strides=2, padding=\"same\", activation=\"relu\"))\n",
    "decoder.add(layers.Conv2DTranspose(filters=32, kernel_size=3, strides=2, padding=\"same\", activation=\"relu\"))\n",
    "decoder.add(layers.Conv2D(filters=3, kernel_size=3, padding=\"same\", activation=\"sigmoid\"))\n",
    "decoder.summary()"
   ]
  },
  {
   "cell_type": "markdown",
   "metadata": {},
   "source": [
    "❓ **Now, build the `encoder` that plugs correctly with the decoder defined above**. Make sure that:\n",
    "- The output of your `encoder` is the same shape as the input of the `decoder`\n",
    "- Use a convolutional neural network architecture without transfer learning\n",
    "- Keep it simple\n",
    "- Print model summary"
   ]
  },
  {
   "cell_type": "code",
   "execution_count": 577,
   "metadata": {
    "ExecuteTime": {
     "end_time": "2021-06-23T10:30:30.254803Z",
     "start_time": "2021-06-23T10:30:30.251255Z"
    }
   },
   "outputs": [],
   "source": [
    "# CODE HERE YOUR ENCODER ARCHITECTURE AND PRINT IT'S MODEL SUMMARY\n",
    "\n",
    "encoder = None"
   ]
  },
  {
   "cell_type": "markdown",
   "metadata": {
    "ExecuteTime": {
     "end_time": "2021-06-22T09:32:05.702398Z",
     "start_time": "2021-06-22T09:32:05.696251Z"
    }
   },
   "source": [
    "👉 **Test your encoder below**"
   ]
  },
  {
   "cell_type": "code",
   "execution_count": 579,
   "metadata": {
    "ExecuteTime": {
     "end_time": "2021-06-23T10:30:31.061011Z",
     "start_time": "2021-06-23T10:30:30.994105Z"
    }
   },
   "outputs": [],
   "source": [
    "# HERE WE BUILD THE AUTO-ENCODER (ENCODER + DECODER) FOR YOU. IT SHOULD PRINT A NICE SUMMARY\n",
    "from tensorflow.keras.models import Model\n",
    "\n",
    "x = layers.Input(shape=(120, 100, 3))\n",
    "autoencoder = Model(x, decoder(encoder(x)), name=\"autoencoder\")\n",
    "autoencoder.summary()"
   ]
  },
  {
   "cell_type": "markdown",
   "metadata": {},
   "source": [
    "### 3.2 Training"
   ]
  },
  {
   "cell_type": "markdown",
   "metadata": {},
   "source": [
    "❓ **Before training the autoencoder, evaluate your baseline score**\n",
    "- We will use the mean absolute error in this challenge\n",
    "- Compute the baseline score on your test set in the \"stupid\" case where you don't manage to de-noise anything at all.\n",
    "- Store the result under `score_baseline`"
   ]
  },
  {
   "cell_type": "code",
   "execution_count": 580,
   "metadata": {
    "ExecuteTime": {
     "end_time": "2021-06-23T10:30:32.490685Z",
     "start_time": "2021-06-23T10:30:32.424055Z"
    },
    "tags": [
     "challengify"
    ]
   },
   "outputs": [],
   "source": [
    "# YOUR CODE HERE"
   ]
  },
  {
   "cell_type": "markdown",
   "metadata": {},
   "source": [
    "❓ Now, **train your autoencoder**\n",
    "\n",
    "- Use an appropriate loss\n",
    "- Adapt the learning rate of your optimizer if convergence is too slow/fast\n",
    "- Make sure your model does not overfit with appropriate control techniques\n",
    "\n",
    "💡 You will not be judged by the computing power of your computer, you can reach decent performance in less than 5 minutes of training without GPUs."
   ]
  },
  {
   "cell_type": "code",
   "execution_count": 581,
   "metadata": {
    "ExecuteTime": {
     "end_time": "2021-06-23T10:30:32.996335Z",
     "start_time": "2021-06-23T10:30:32.977099Z"
    },
    "tags": [
     "challengify"
    ]
   },
   "outputs": [],
   "source": [
    "# YOUR CODE HERE"
   ]
  },
  {
   "cell_type": "markdown",
   "metadata": {},
   "source": [
    "❓ **Plot your training and validation loss at each epoch using the cell below**"
   ]
  },
  {
   "cell_type": "code",
   "execution_count": 583,
   "metadata": {
    "ExecuteTime": {
     "end_time": "2021-06-23T10:33:22.463034Z",
     "start_time": "2021-06-23T10:33:22.422164Z"
    }
   },
   "outputs": [],
   "source": [
    "# Plot below your train/val loss history\n",
    "# YOUR CODE HERE\n",
    "# YOUR CODE HERE\n",
    "# YOUR CODE HERE\n",
    "\n",
    "\n",
    "# Run also this code to save figure as jpg in path below (it's your job to ensure it works)\n",
    "fig = plt.gcf()\n",
    "plt.savefig(\"tests/history.png\")"
   ]
  },
  {
   "cell_type": "markdown",
   "metadata": {},
   "source": [
    "❓ **Evaluate your performances on test set**\n",
    "- Compute your de-noised test set `Y_pred` \n",
    "- Store your test score as `score_test`\n",
    "- Plot a de-noised image from your test set and compare it with the original and noisy one using the cell below"
   ]
  },
  {
   "cell_type": "code",
   "execution_count": 585,
   "metadata": {
    "ExecuteTime": {
     "end_time": "2021-06-23T10:33:23.147732Z",
     "start_time": "2021-06-23T10:33:22.679613Z"
    },
    "tags": [
     "challengify"
    ]
   },
   "outputs": [],
   "source": [
    "# YOUR CODE HERE"
   ]
  },
  {
   "cell_type": "code",
   "execution_count": 591,
   "metadata": {
    "ExecuteTime": {
     "end_time": "2021-06-23T10:34:10.656669Z",
     "start_time": "2021-06-23T10:34:10.159522Z"
    }
   },
   "outputs": [],
   "source": [
    "# RUN THIS CELL TO CHECK YOUR RESULTS\n",
    "idx = 0\n",
    "\n",
    "fig, axs = plt.subplots(1,3, figsize=(10,5))\n",
    "axs[0].imshow(Y_test[idx])\n",
    "axs[0].set_title(\"Clean image.\")\n",
    "\n",
    "axs[1].imshow(X_test[idx])\n",
    "axs[1].set_title(\"Noisy image.\")\n",
    "\n",
    "axs[2].imshow(Y_pred[idx])\n",
    "axs[2].set_title(\"Prediction.\")\n",
    "\n",
    "# Run this to save your results for correction\n",
    "plt.savefig('tests/image_denoised.png')"
   ]
  },
  {
   "cell_type": "markdown",
   "metadata": {},
   "source": [
    "🧪 **Send your results below**"
   ]
  },
  {
   "cell_type": "code",
   "execution_count": 588,
   "metadata": {
    "ExecuteTime": {
     "end_time": "2021-06-23T10:33:23.944158Z",
     "start_time": "2021-06-23T10:33:23.936725Z"
    }
   },
   "outputs": [],
   "source": [
    "from nbresult import ChallengeResult\n",
    "\n",
    "result = ChallengeResult(\n",
    "    \"network\",\n",
    "    input_shape = list(encoder.input.shape),\n",
    "    output_shape = list(encoder.output.shape),\n",
    "    layer_names = [layer.name for layer in encoder.layers],\n",
    "    trainable_params = sum([tf.size(w_matrix).numpy() for w_matrix in encoder.trainable_variables]),\n",
    "    score_baseline = score_baseline,\n",
    "    score_test = score_test,\n",
    ")\n",
    "result.write()"
   ]
  }
 ],
 "metadata": {
  "kernelspec": {
   "display_name": "Python 3",
   "language": "python",
   "name": "python3"
  },
  "language_info": {
   "codemirror_mode": {
    "name": "ipython",
    "version": 3
   },
   "file_extension": ".py",
   "mimetype": "text/x-python",
   "name": "python",
   "nbconvert_exporter": "python",
   "pygments_lexer": "ipython3",
   "version": "3.8.6"
  },
  "toc": {
   "base_numbering": 1,
   "nav_menu": {},
   "number_sections": false,
   "sideBar": true,
   "skip_h1_title": false,
   "title_cell": "Table of Contents",
   "title_sidebar": "Contents",
   "toc_cell": false,
   "toc_position": {},
   "toc_section_display": true,
   "toc_window_display": true
  },
  "varInspector": {
   "cols": {
    "lenName": 16,
    "lenType": 16,
    "lenVar": 40
   },
   "kernels_config": {
    "python": {
     "delete_cmd_postfix": "",
     "delete_cmd_prefix": "del ",
     "library": "var_list.py",
     "varRefreshCmd": "print(var_dic_list())"
    },
    "r": {
     "delete_cmd_postfix": ") ",
     "delete_cmd_prefix": "rm(",
     "library": "var_list.r",
     "varRefreshCmd": "cat(var_dic_list()) "
    }
   },
   "types_to_exclude": [
    "module",
    "function",
    "builtin_function_or_method",
    "instance",
    "_Feature"
   ],
   "window_display": false
  }
 },
 "nbformat": 4,
 "nbformat_minor": 5
}
